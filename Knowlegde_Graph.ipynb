{
 "cells": [
  {
   "cell_type": "code",
   "execution_count": 1,
   "metadata": {
    "colab": {
     "base_uri": "https://localhost:8080/"
    },
    "id": "4GnQOO8kabo5",
    "outputId": "74593291-5970-4fce-a46f-00c838d8c58c"
   },
   "outputs": [
    {
     "name": "stdout",
     "output_type": "stream",
     "text": [
      "Defaulting to user installation because normal site-packages is not writeable\n",
      "Requirement already satisfied: node2vec in /home/dhruv/.local/lib/python3.8/site-packages (0.4.6)\n",
      "Requirement already satisfied: gensim<5.0.0,>=4.1.2 in /home/dhruv/.local/lib/python3.8/site-packages (from node2vec) (4.3.2)\n",
      "Requirement already satisfied: joblib<2.0.0,>=1.1.0 in /usr/local/lib/python3.8/dist-packages (from node2vec) (1.2.0)\n",
      "Requirement already satisfied: networkx<3.0,>=2.5 in /home/dhruv/.local/lib/python3.8/site-packages (from node2vec) (2.5)\n",
      "Requirement already satisfied: numpy<2.0.0,>=1.19.5 in /usr/local/lib/python3.8/dist-packages (from node2vec) (1.24.1)\n",
      "Requirement already satisfied: tqdm<5.0.0,>=4.55.1 in /home/dhruv/.local/lib/python3.8/site-packages (from node2vec) (4.56.0)\n",
      "Requirement already satisfied: scipy>=1.7.0 in /home/dhruv/.local/lib/python3.8/site-packages (from gensim<5.0.0,>=4.1.2->node2vec) (1.10.1)\n",
      "Requirement already satisfied: smart-open>=1.8.1 in /home/dhruv/.local/lib/python3.8/site-packages (from gensim<5.0.0,>=4.1.2->node2vec) (6.4.0)\n",
      "Requirement already satisfied: decorator>=4.3.0 in /home/dhruv/.local/lib/python3.8/site-packages (from networkx<3.0,>=2.5->node2vec) (4.4.2)\n",
      "\u001b[33mDEPRECATION: distro-info 0.23ubuntu1 has a non-standard version number. pip 24.0 will enforce this behaviour change. A possible replacement is to upgrade to a newer version of distro-info or contact the author to suggest that they release a version with a conforming version number. Discussion can be found at https://github.com/pypa/pip/issues/12063\u001b[0m\u001b[33m\n",
      "\u001b[0m\u001b[33mDEPRECATION: python-debian 0.1.36ubuntu1 has a non-standard version number. pip 24.0 will enforce this behaviour change. A possible replacement is to upgrade to a newer version of python-debian or contact the author to suggest that they release a version with a conforming version number. Discussion can be found at https://github.com/pypa/pip/issues/12063\u001b[0m\u001b[33m\n",
      "\u001b[0m"
     ]
    }
   ],
   "source": [
    "#run only once\n",
    "#!pip install node2vec"
   ]
  },
  {
   "cell_type": "code",
   "execution_count": 66,
   "metadata": {
    "id": "Ii8b3dBu86E8"
   },
   "outputs": [],
   "source": [
    "#import libraries\n",
    "import pandas as pd\n",
    "import string as st\n",
    "import networkx as nx\n",
    "import matplotlib.pyplot as plt\n",
    "import numpy as np\n",
    "import sys\n",
    "from node2vec import Node2Vec\n",
    "import pickle"
   ]
  },
  {
   "cell_type": "code",
   "execution_count": 67,
   "metadata": {
    "id": "AS1TT93A-TP3"
   },
   "outputs": [
    {
     "data": {
      "text/html": [
       "<div>\n",
       "<style scoped>\n",
       "    .dataframe tbody tr th:only-of-type {\n",
       "        vertical-align: middle;\n",
       "    }\n",
       "\n",
       "    .dataframe tbody tr th {\n",
       "        vertical-align: top;\n",
       "    }\n",
       "\n",
       "    .dataframe thead th {\n",
       "        text-align: right;\n",
       "    }\n",
       "</style>\n",
       "<table border=\"1\" class=\"dataframe\">\n",
       "  <thead>\n",
       "    <tr style=\"text-align: right;\">\n",
       "      <th></th>\n",
       "      <th>Rank</th>\n",
       "      <th>Title</th>\n",
       "      <th>Genre</th>\n",
       "      <th>Description</th>\n",
       "      <th>Director</th>\n",
       "      <th>Actors</th>\n",
       "      <th>Year</th>\n",
       "      <th>Runtime (Minutes)</th>\n",
       "      <th>Rating</th>\n",
       "      <th>Votes</th>\n",
       "      <th>Revenue (Millions)</th>\n",
       "      <th>Metascore</th>\n",
       "    </tr>\n",
       "  </thead>\n",
       "  <tbody>\n",
       "    <tr>\n",
       "      <th>0</th>\n",
       "      <td>1</td>\n",
       "      <td>Guardians of the Galaxy</td>\n",
       "      <td>Action,Adventure,Sci-Fi</td>\n",
       "      <td>A group of intergalactic criminals are forced ...</td>\n",
       "      <td>James Gunn</td>\n",
       "      <td>Chris Pratt, Vin Diesel, Bradley Cooper, Zoe S...</td>\n",
       "      <td>2014</td>\n",
       "      <td>121</td>\n",
       "      <td>8.1</td>\n",
       "      <td>757074</td>\n",
       "      <td>333.13</td>\n",
       "      <td>76.0</td>\n",
       "    </tr>\n",
       "    <tr>\n",
       "      <th>1</th>\n",
       "      <td>2</td>\n",
       "      <td>Prometheus</td>\n",
       "      <td>Adventure,Mystery,Sci-Fi</td>\n",
       "      <td>Following clues to the origin of mankind, a te...</td>\n",
       "      <td>Ridley Scott</td>\n",
       "      <td>Noomi Rapace, Logan Marshall-Green, Michael Fa...</td>\n",
       "      <td>2012</td>\n",
       "      <td>124</td>\n",
       "      <td>7.0</td>\n",
       "      <td>485820</td>\n",
       "      <td>126.46</td>\n",
       "      <td>65.0</td>\n",
       "    </tr>\n",
       "    <tr>\n",
       "      <th>2</th>\n",
       "      <td>3</td>\n",
       "      <td>Split</td>\n",
       "      <td>Horror,Thriller</td>\n",
       "      <td>Three girls are kidnapped by a man with a diag...</td>\n",
       "      <td>M. Night Shyamalan</td>\n",
       "      <td>James McAvoy, Anya Taylor-Joy, Haley Lu Richar...</td>\n",
       "      <td>2016</td>\n",
       "      <td>117</td>\n",
       "      <td>7.3</td>\n",
       "      <td>157606</td>\n",
       "      <td>138.12</td>\n",
       "      <td>62.0</td>\n",
       "    </tr>\n",
       "    <tr>\n",
       "      <th>3</th>\n",
       "      <td>4</td>\n",
       "      <td>Sing</td>\n",
       "      <td>Animation,Comedy,Family</td>\n",
       "      <td>In a city of humanoid animals, a hustling thea...</td>\n",
       "      <td>Christophe Lourdelet</td>\n",
       "      <td>Matthew McConaughey,Reese Witherspoon, Seth Ma...</td>\n",
       "      <td>2016</td>\n",
       "      <td>108</td>\n",
       "      <td>7.2</td>\n",
       "      <td>60545</td>\n",
       "      <td>270.32</td>\n",
       "      <td>59.0</td>\n",
       "    </tr>\n",
       "    <tr>\n",
       "      <th>4</th>\n",
       "      <td>5</td>\n",
       "      <td>Suicide Squad</td>\n",
       "      <td>Action,Adventure,Fantasy</td>\n",
       "      <td>A secret government agency recruits some of th...</td>\n",
       "      <td>David Ayer</td>\n",
       "      <td>Will Smith, Jared Leto, Margot Robbie, Viola D...</td>\n",
       "      <td>2016</td>\n",
       "      <td>123</td>\n",
       "      <td>6.2</td>\n",
       "      <td>393727</td>\n",
       "      <td>325.02</td>\n",
       "      <td>40.0</td>\n",
       "    </tr>\n",
       "  </tbody>\n",
       "</table>\n",
       "</div>"
      ],
      "text/plain": [
       "   Rank                    Title                     Genre  \\\n",
       "0     1  Guardians of the Galaxy   Action,Adventure,Sci-Fi   \n",
       "1     2               Prometheus  Adventure,Mystery,Sci-Fi   \n",
       "2     3                    Split           Horror,Thriller   \n",
       "3     4                     Sing   Animation,Comedy,Family   \n",
       "4     5            Suicide Squad  Action,Adventure,Fantasy   \n",
       "\n",
       "                                         Description              Director  \\\n",
       "0  A group of intergalactic criminals are forced ...            James Gunn   \n",
       "1  Following clues to the origin of mankind, a te...          Ridley Scott   \n",
       "2  Three girls are kidnapped by a man with a diag...    M. Night Shyamalan   \n",
       "3  In a city of humanoid animals, a hustling thea...  Christophe Lourdelet   \n",
       "4  A secret government agency recruits some of th...            David Ayer   \n",
       "\n",
       "                                              Actors  Year  Runtime (Minutes)  \\\n",
       "0  Chris Pratt, Vin Diesel, Bradley Cooper, Zoe S...  2014                121   \n",
       "1  Noomi Rapace, Logan Marshall-Green, Michael Fa...  2012                124   \n",
       "2  James McAvoy, Anya Taylor-Joy, Haley Lu Richar...  2016                117   \n",
       "3  Matthew McConaughey,Reese Witherspoon, Seth Ma...  2016                108   \n",
       "4  Will Smith, Jared Leto, Margot Robbie, Viola D...  2016                123   \n",
       "\n",
       "   Rating   Votes  Revenue (Millions)  Metascore  \n",
       "0     8.1  757074              333.13       76.0  \n",
       "1     7.0  485820              126.46       65.0  \n",
       "2     7.3  157606              138.12       62.0  \n",
       "3     7.2   60545              270.32       59.0  \n",
       "4     6.2  393727              325.02       40.0  "
      ]
     },
     "execution_count": 67,
     "metadata": {},
     "output_type": "execute_result"
    }
   ],
   "source": [
    "#import data\n",
    "data = pd.read_csv(\"IMDB-Movie-Data.csv\")\n",
    "data.head()"
   ]
  },
  {
   "cell_type": "code",
   "execution_count": 68,
   "metadata": {
    "id": "Yk5KRD36-gmS"
   },
   "outputs": [],
   "source": [
    "# Data Pre-processing Functions\n",
    "# Remove Punctuations\n",
    "def remove_punctuation(text):\n",
    "    return (\"\".join([ch.lower() for ch in text if ch not in st.punctuation]))\n",
    "\n",
    "def preprocess(word):\n",
    "    if word[0] == ' ':\n",
    "        word = word[1:]\n",
    "    return remove_punctuation(word.lower())\n",
    "\n",
    "#data['Title'] = remove_punctuation(data['Title'])"
   ]
  },
  {
   "cell_type": "code",
   "execution_count": 74,
   "metadata": {
    "colab": {
     "base_uri": "https://localhost:8080/"
    },
    "id": "Y8PVTh8yCKWV",
    "outputId": "5aacc3c8-6041-40c1-fc45-0fa85c8698b4"
   },
   "outputs": [
    {
     "name": "stderr",
     "output_type": "stream",
     "text": [
      "/tmp/ipykernel_46941/3076032495.py:24: FutureWarning: The frame.append method is deprecated and will be removed from pandas in a future version. Use pandas.concat instead.\n",
      "  graphNodes = graphNodes.append(getGraphNodes(data['Title'], data['Director'], 'directing'))\n",
      "/tmp/ipykernel_46941/3076032495.py:27: FutureWarning: The frame.append method is deprecated and will be removed from pandas in a future version. Use pandas.concat instead.\n",
      "  graphNodes = graphNodes.append(getGraphNodes(data['Title'], data['Actors'], 'acting'))\n",
      "/tmp/ipykernel_46941/3076032495.py:30: FutureWarning: The frame.append method is deprecated and will be removed from pandas in a future version. Use pandas.concat instead.\n",
      "  graphNodes = graphNodes.append(getGraphNodes(data['Title'], data['Genre'], 'genre'))\n",
      "/tmp/ipykernel_46941/3076032495.py:33: FutureWarning: The frame.append method is deprecated and will be removed from pandas in a future version. Use pandas.concat instead.\n",
      "  graphNodes = graphNodes.append(getGraphNodes(data['Title'], data['Year'], 'released'))\n"
     ]
    }
   ],
   "source": [
    "#function to create graph nodes using lists if node 1, node 2, relation\n",
    "\n",
    "def getGraphNodes(node1, node2, relation):\n",
    "    temp1 = []\n",
    "    temp2 = []\n",
    "    for i in range(0, len(node1)):\n",
    "        if isinstance(node2[i], (int, np.integer)):\n",
    "            # For year\n",
    "            temp1.append(remove_punctuation(node1[i]))\n",
    "            temp2.append(str(node2[i]))\n",
    "        else :\n",
    "            # For director, actor, genre\n",
    "            for mov in node2[i].split(','):\n",
    "                temp1.append(preprocess(node1[i]))\n",
    "                temp2.append(preprocess(mov))\n",
    "            \n",
    "    graphNodesNew = pd.DataFrame(list(zip(temp1, temp2, [relation]*len(temp1) )))\n",
    "    graphNodesNew.columns = ['Node 1', 'Node 2', 'Relation']\n",
    "    return graphNodesNew\n",
    "\n",
    "graphNodes = pd.DataFrame()\n",
    "\n",
    "#create graph nodes for Director-movie relation\n",
    "graphNodes = graphNodes.append(getGraphNodes(data['Title'], data['Director'], 'directing'))\n",
    "\n",
    "#create graph nodes for Actor-movie relation\n",
    "graphNodes = graphNodes.append(getGraphNodes(data['Title'], data['Actors'], 'acting'))\n",
    "\n",
    "#create graph nodes for Genre-movie relation\n",
    "graphNodes = graphNodes.append(getGraphNodes(data['Title'], data['Genre'], 'genre'))\n",
    "\n",
    "#create graph nodes for Year-movie relation\n",
    "graphNodes = graphNodes.append(getGraphNodes(data['Title'], data['Year'], 'released'))\n"
   ]
  },
  {
   "cell_type": "code",
   "execution_count": 75,
   "metadata": {
    "id": "Z0H0nQsIVjP4"
   },
   "outputs": [
    {
     "data": {
      "text/html": [
       "<div>\n",
       "<style scoped>\n",
       "    .dataframe tbody tr th:only-of-type {\n",
       "        vertical-align: middle;\n",
       "    }\n",
       "\n",
       "    .dataframe tbody tr th {\n",
       "        vertical-align: top;\n",
       "    }\n",
       "\n",
       "    .dataframe thead th {\n",
       "        text-align: right;\n",
       "    }\n",
       "</style>\n",
       "<table border=\"1\" class=\"dataframe\">\n",
       "  <thead>\n",
       "    <tr style=\"text-align: right;\">\n",
       "      <th></th>\n",
       "      <th>Node 1</th>\n",
       "      <th>Node 2</th>\n",
       "      <th>Relation</th>\n",
       "    </tr>\n",
       "  </thead>\n",
       "  <tbody>\n",
       "    <tr>\n",
       "      <th>0</th>\n",
       "      <td>guardians of the galaxy</td>\n",
       "      <td>james gunn</td>\n",
       "      <td>directing</td>\n",
       "    </tr>\n",
       "    <tr>\n",
       "      <th>1</th>\n",
       "      <td>prometheus</td>\n",
       "      <td>ridley scott</td>\n",
       "      <td>directing</td>\n",
       "    </tr>\n",
       "    <tr>\n",
       "      <th>2</th>\n",
       "      <td>split</td>\n",
       "      <td>m night shyamalan</td>\n",
       "      <td>directing</td>\n",
       "    </tr>\n",
       "    <tr>\n",
       "      <th>3</th>\n",
       "      <td>sing</td>\n",
       "      <td>christophe lourdelet</td>\n",
       "      <td>directing</td>\n",
       "    </tr>\n",
       "    <tr>\n",
       "      <th>4</th>\n",
       "      <td>suicide squad</td>\n",
       "      <td>david ayer</td>\n",
       "      <td>directing</td>\n",
       "    </tr>\n",
       "    <tr>\n",
       "      <th>...</th>\n",
       "      <td>...</td>\n",
       "      <td>...</td>\n",
       "      <td>...</td>\n",
       "    </tr>\n",
       "    <tr>\n",
       "      <th>995</th>\n",
       "      <td>secret in their eyes</td>\n",
       "      <td>2015</td>\n",
       "      <td>released</td>\n",
       "    </tr>\n",
       "    <tr>\n",
       "      <th>996</th>\n",
       "      <td>hostel part ii</td>\n",
       "      <td>2007</td>\n",
       "      <td>released</td>\n",
       "    </tr>\n",
       "    <tr>\n",
       "      <th>997</th>\n",
       "      <td>step up 2 the streets</td>\n",
       "      <td>2008</td>\n",
       "      <td>released</td>\n",
       "    </tr>\n",
       "    <tr>\n",
       "      <th>998</th>\n",
       "      <td>search party</td>\n",
       "      <td>2014</td>\n",
       "      <td>released</td>\n",
       "    </tr>\n",
       "    <tr>\n",
       "      <th>999</th>\n",
       "      <td>nine lives</td>\n",
       "      <td>2016</td>\n",
       "      <td>released</td>\n",
       "    </tr>\n",
       "  </tbody>\n",
       "</table>\n",
       "<p>8554 rows × 3 columns</p>\n",
       "</div>"
      ],
      "text/plain": [
       "                      Node 1                Node 2   Relation\n",
       "0    guardians of the galaxy            james gunn  directing\n",
       "1                 prometheus          ridley scott  directing\n",
       "2                      split     m night shyamalan  directing\n",
       "3                       sing  christophe lourdelet  directing\n",
       "4              suicide squad            david ayer  directing\n",
       "..                       ...                   ...        ...\n",
       "995     secret in their eyes                  2015   released\n",
       "996           hostel part ii                  2007   released\n",
       "997    step up 2 the streets                  2008   released\n",
       "998             search party                  2014   released\n",
       "999               nine lives                  2016   released\n",
       "\n",
       "[8554 rows x 3 columns]"
      ]
     },
     "execution_count": 75,
     "metadata": {},
     "output_type": "execute_result"
    }
   ],
   "source": [
    "graphNodes"
   ]
  },
  {
   "cell_type": "code",
   "execution_count": 76,
   "metadata": {
    "id": "6lsQHgjDCNnB"
   },
   "outputs": [],
   "source": [
    "# create a undirected-graph from a dataframe\n",
    "G = nx.from_pandas_edgelist(graphNodes, \"Node 1\", \"Node 2\", edge_attr=True, create_using=nx.MultiDiGraph())\n",
    "G = G.to_undirected()"
   ]
  },
  {
   "cell_type": "code",
   "execution_count": 77,
   "metadata": {
    "colab": {
     "base_uri": "https://localhost:8080/",
     "height": 49,
     "referenced_widgets": [
      "40c014242999402a924779e51291df2a",
      "9e159b87be624421a92cc2792256711f",
      "f47980cab81a420facf6ffd836f49e2a",
      "580d081d644e4aa881e3e52ba3d59e6e",
      "384ea9efd3cd4bcfa59df1675c37726b",
      "a6f4e2bb72b84e1fb139497d9b1a0575",
      "7f1ea4b040fa403baa6a618ba9c1fa13",
      "2dc8b588803b423f98d8080c28aa8ef5",
      "0f65f8f823424565a7c505fe2d3ee3df",
      "d6ada842d1ec4493882f6a305c83de10",
      "9a973fd5411846a7b43848effa14adc0"
     ]
    },
    "id": "yTkwhnpnbPc9",
    "outputId": "9b773c22-4da9-47fa-ed74-9e18c2da0c7c"
   },
   "outputs": [
    {
     "data": {
      "application/json": {
       "ascii": false,
       "bar_format": null,
       "colour": null,
       "elapsed": 0.003052949905395508,
       "initial": 0,
       "n": 0,
       "ncols": null,
       "nrows": 62,
       "postfix": null,
       "prefix": "Computing transition probabilities",
       "rate": null,
       "total": 3622,
       "unit": "it",
       "unit_divisor": 1000,
       "unit_scale": false
      },
      "application/vnd.jupyter.widget-view+json": {
       "model_id": "a47343a0489e433f8f97627e0fe0ecb0",
       "version_major": 2,
       "version_minor": 0
      },
      "text/plain": [
       "Computing transition probabilities:   0%|          | 0/3622 [00:00<?, ?it/s]"
      ]
     },
     "metadata": {},
     "output_type": "display_data"
    },
    {
     "name": "stderr",
     "output_type": "stream",
     "text": [
      "/usr/lib/python3/dist-packages/paramiko/transport.py:219: CryptographyDeprecationWarning: Blowfish has been deprecated\n",
      "  \"class\": algorithms.Blowfish,\n",
      "Generating walks (CPU: 1):   0%|          | 0/50 [00:00<?, ?it/s]/usr/lib/python3/dist-packages/paramiko/transport.py:219: CryptographyDeprecationWarning: Blowfish has been deprecated\n",
      "  \"class\": algorithms.Blowfish,\n",
      "Generating walks (CPU: 2):   4%|▍         | 2/50 [00:00<00:11,  4.24it/s]/usr/lib/python3/dist-packages/paramiko/transport.py:219: CryptographyDeprecationWarning: Blowfish has been deprecated\n",
      "  \"class\": algorithms.Blowfish,\n",
      "Generating walks (CPU: 2):   6%|▌         | 3/50 [00:00<00:15,  2.96it/s]/usr/lib/python3/dist-packages/paramiko/transport.py:219: CryptographyDeprecationWarning: Blowfish has been deprecated\n",
      "  \"class\": algorithms.Blowfish,\n",
      "Generating walks (CPU: 4): 100%|██████████| 50/50 [00:37<00:00,  1.33it/s]"
     ]
    }
   ],
   "source": [
    "# Generate embeddings for graph nodes using Node2Vec\n",
    "graph = G\n",
    "# Initialize Node2Vec with the graph\n",
    "node2vec = Node2Vec(graph, dimensions=16, walk_length=30, num_walks=200, workers=4)\n",
    "# Learn embeddings\n",
    "embeddings = node2vec.fit(window=3, min_count=1, batch_words=4)"
   ]
  },
  {
   "cell_type": "code",
   "execution_count": 78,
   "metadata": {},
   "outputs": [],
   "source": [
    "# Generate pkl files so you dont need to create graphs and embeddings again\n",
    "\n",
    "with open('graph.pkl', 'wb') as f:\n",
    "    pickle.dump(graph, f)\n",
    "    \n",
    "with open('embeddings.pkl', 'wb') as f:\n",
    "    pickle.dump(embeddings, f)"
   ]
  },
  {
   "cell_type": "markdown",
   "metadata": {},
   "source": [
    "### Just Experimentation"
   ]
  },
  {
   "cell_type": "code",
   "execution_count": 88,
   "metadata": {
    "scrolled": true
   },
   "outputs": [
    {
     "name": "stdout",
     "output_type": "stream",
     "text": [
      "boman irani\n",
      "anushka sharma\n",
      "pk\n",
      "rajkumar hirani\n",
      "aamir khan\n",
      "madhavan\n",
      "sharman joshi\n",
      "3 idiots\n",
      "sex tape\n",
      "mona singh\n",
      "ellie kemper\n",
      "jake kasdan\n",
      "rob corddry\n",
      "lyndsy fonseca\n",
      "bruce campbell\n",
      "will slocombe\n",
      "tommy dewey\n",
      "amma asante\n",
      "the escort\n",
      "michael doneger\n"
     ]
    }
   ],
   "source": [
    "similar_nodes = embeddings.wv.most_similar('sanjay dutt', topn=20)\n",
    "for n in similar_nodes:\n",
    "    print(n[0])"
   ]
  },
  {
   "cell_type": "code",
   "execution_count": 43,
   "metadata": {},
   "outputs": [],
   "source": [
    "emb = {node: embeddings.wv[str(node)] for node in G.nodes()}"
   ]
  },
  {
   "cell_type": "code",
   "execution_count": 44,
   "metadata": {},
   "outputs": [
    {
     "data": {
      "text/plain": [
       "dict_keys(['Guardians of the Galaxy', 'James Gunn', 'Prometheus', 'Ridley Scott', 'Split', 'M. Night Shyamalan', 'Sing', 'Christophe Lourdelet', 'Suicide Squad', 'David Ayer', 'The Great Wall', 'Yimou Zhang', 'La La Land', 'Damien Chazelle', 'Mindhorn', 'Sean Foley', 'The Lost City of Z', 'James Gray', 'Passengers', 'Morten Tyldum', 'Fantastic Beasts and Where to Find Them', 'David Yates', 'Hidden Figures', 'Theodore Melfi', 'Rogue One', 'Gareth Edwards', 'Moana', 'Ron Clements', 'Colossal', 'Nacho Vigalondo', 'The Secret Life of Pets', 'Chris Renaud', 'Hacksaw Ridge', 'Mel Gibson', 'Jason Bourne', 'Paul Greengrass', 'Lion', 'Garth Davis', 'Arrival', 'Denis Villeneuve', 'Gold', 'Stephen Gaghan', 'Manchester by the Sea', 'Kenneth Lonergan', 'Hounds of Love', 'Ben Young', 'Trolls', 'Walt Dohrn', 'Independence Day: Resurgence', 'Roland Emmerich', 'Paris pieds nus', 'Dominique Abel', 'Bahubali: The Beginning', 'S.S. Rajamouli', 'Dead Awake', 'Phillip Guzman', 'Bad Moms', 'Jon Lucas', \"Assassin's Creed\", 'Justin Kurzel', 'Why Him?', 'John Hamburg', 'Nocturnal Animals', 'Tom Ford', 'X-Men: Apocalypse', 'Bryan Singer', 'Deadpool', 'Tim Miller', 'Resident Evil: The Final Chapter', 'Paul W.S. Anderson', 'Captain America: Civil War', 'Anthony Russo', 'Interstellar', 'Christopher Nolan', 'Doctor Strange', 'Scott Derrickson', 'The Magnificent Seven', 'Antoine Fuqua', '5- 25- 77', 'Patrick Read Johnson', 'Sausage Party', 'Greg Tiernan', 'Moonlight', 'Barry Jenkins', \"Don't Fuck in the Woods\", 'Shawn Burkett', 'The Founder', 'John Lee Hancock', 'Lowriders', 'Ricardo de Montreuil', 'Pirates of the Caribbean: On Stranger Tides', 'Rob Marshall', 'Miss Sloane', 'John Madden', 'Fallen', 'Scott Hicks', 'Star Trek Beyond', 'Justin Lin', 'The Last Face', 'Sean Penn', 'Star Wars: Episode VII - The Force Awakens', 'J.J. Abrams', 'Underworld: Blood Wars', 'Anna Foerster', \"Mother's Day\", 'Garry Marshall', 'John Wick', 'Chad Stahelski', 'The Dark Knight', 'Silence', 'Martin Scorsese', \"Don't Breathe\", 'Fede Alvarez', 'Me Before You', 'Thea Sharrock', 'Their Finest', 'Lone Scherfig', 'Sully', 'Clint Eastwood', 'Batman v Superman: Dawn of Justice', 'Zack Snyder', 'The Autopsy of Jane Doe', 'André Øvredal', 'The Girl on the Train', 'Tate Taylor', 'Fifty Shades of Grey', 'Sam Taylor-Johnson', 'The Prestige', 'Kingsman: The Secret Service', 'Matthew Vaughn', 'Patriots Day', 'Peter Berg', 'Mad Max: Fury Road', 'George Miller', 'Wakefield', 'Robin Swicord', 'Deepwater Horizon', 'The Promise', 'Terry George', 'Allied', 'Robert Zemeckis', 'A Monster Calls', 'J.A. Bayona', 'Collateral Beauty', 'David Frankel', 'Zootopia', 'Byron Howard', \"Pirates of the Caribbean: At World's End\", 'Gore Verbinski', 'The Avengers', 'Joss Whedon', 'Inglourious Basterds', 'Quentin Tarantino', \"Pirates of the Caribbean: Dead Man's Chest\", 'Ghostbusters', 'Paul Feig', 'Inception', 'Captain Fantastic', 'Matt Ross', 'The Wolf of Wall Street', 'Gone Girl', 'David Fincher', 'Furious Seven', 'James Wan', 'Jurassic World', 'Colin Trevorrow', 'Live by Night', 'Ben Affleck', 'Avatar', 'James Cameron', 'The Hateful Eight', 'The Accountant', \"Gavin O'Connor\", 'Prisoners', 'Warcraft', 'Duncan Jones', 'The Help', 'War Dogs', 'Todd Phillips', 'Avengers: Age of Ultron', 'The Nice Guys', 'Shane Black', 'Kimi no na wa', 'Makoto Shinkai', 'The Void', 'Jeremy Gillespie', 'Personal Shopper', 'Olivier Assayas', 'The Departed', 'Legend', 'Brian Helgeland', 'Thor', 'Kenneth Branagh', 'The Martian', 'Contratiempo', 'Oriol Paulo', 'The Man from U.N.C.L.E.', 'Guy Ritchie', 'Hell or High Water', 'David Mackenzie', 'The Comedian', 'Taylor Hackford', 'The Legend of Tarzan', 'All We Had', 'Katie Holmes', 'Ex Machina', 'Alex Garland', 'The Belko Experiment', 'Greg McLean', '12 Years a Slave', 'Steve McQueen', 'The Bad Batch', 'Ana Lily Amirpour', '300', 'Harry Potter and the Deathly Hallows: Part 2', 'Office Christmas Party', 'Josh Gordon', 'The Neon Demon', 'Nicolas Winding Refn', 'Dangal', 'Nitesh Tiwari', '10 Cloverfield Lane', 'Dan Trachtenberg', 'Finding Dory', 'Andrew Stanton', \"Miss Peregrine's Home for Peculiar Children\", 'Tim Burton', 'Divergent', 'Neil Burger', 'Mike and Dave Need Wedding Dates', 'Jake Szymanski', 'Boyka: Undisputed IV', 'Todor Chapkanov', 'The Dark Knight Rises', 'The Jungle Book', 'Jon Favreau', 'Transformers: Age of Extinction', 'Michael Bay', 'Nerve', 'Henry Joost', 'Mamma Mia!', 'Phyllida Lloyd', 'The Revenant', 'Alejandro González Iñárritu', 'Fences', 'Denzel Washington', 'Into the Woods', 'The Shallows', 'Jaume Collet-Serra', 'Whiplash', 'Furious 6', 'The Place Beyond the Pines', 'Derek Cianfrance', 'No Country for Old Men', 'Ethan Coen', 'The Great Gatsby', 'Baz Luhrmann', 'Shutter Island', 'Brimstone', 'Martin Koolhoven', 'Star Trek', 'Diary of a Wimpy Kid', 'Thor Freudenthal', 'The Big Short', 'Adam McKay', 'Room', 'Lenny Abrahamson', 'Django Unchained', 'Ah-ga-ssi', 'Chan-wook Park', 'The Edge of Seventeen', 'Kelly Fremon Craig', 'Watchmen', 'Superbad', 'Greg Mottola', 'Inferno', 'Ron Howard', 'The BFG', 'Steven Spielberg', 'The Hunger Games', 'Gary Ross', 'White Girl', 'Elizabeth Wood', 'Sicario', 'Twin Peaks: The Missing Pieces', 'David Lynch', 'Aliens vs Predator - Requiem', 'Colin Strause', 'Pacific Rim', 'Guillermo del Toro', 'Crazy, Stupid, Love.', 'Glenn Ficarra', 'Scott Pilgrim vs. the World', 'Edgar Wright', 'Hot Fuzz', 'Mine', 'Fabio Guaglione', 'Free Fire', 'Ben Wheatley', 'X-Men: Days of Future Past', 'Jack Reacher: Never Go Back', 'Edward Zwick', 'Casino Royale', 'Martin Campbell', 'Twilight', 'Catherine Hardwicke', 'Now You See Me 2', 'Jon M. Chu', 'Woman in Gold', 'Simon Curtis', '13 Hours', 'Spectre', 'Sam Mendes', 'Nightcrawler', 'Dan Gilroy', 'Kubo and the Two Strings', 'Travis Knight', 'Beyond the Gates', 'Jackson Stewart', 'Her', 'Spike Jonze', 'Frozen', 'Chris Buck', 'Tomorrowland', 'Brad Bird', 'Dawn of the Planet of the Apes', 'Matt Reeves', 'Tropic Thunder', 'Ben Stiller', 'The Conjuring 2', 'Ant-Man', 'Peyton Reed', \"Bridget Jones's Baby\", 'Sharon Maguire', 'The VVitch: A New-England Folktale', 'Robert Eggers', 'Cinderella', 'Realive', 'Mateo Gil', 'Forushande', 'Asghar Farhadi', 'Love', 'Gaspar Noé', \"Billy Lynn's Long Halftime Walk\", 'Ang Lee', 'Crimson Peak', 'Drive', 'Trainwreck', 'Judd Apatow', 'The Light Between Oceans', 'Below Her Mouth', 'April Mullen', 'Spotlight', 'Tom McCarthy', 'Morgan', 'Luke Scott', 'Warrior', 'Captain America: The First Avenger', 'Joe Johnston', 'Hacker', 'Akan Satayev', 'Into the Wild', 'The Imitation Game', 'Central Intelligence', 'Rawson Marshall Thurber', 'Edge of Tomorrow', 'Doug Liman', 'A Cure for Wellness', 'Snowden', 'Oliver Stone', 'Iron Man', 'Allegiant', 'Robert Schwentke', 'X: First Class', 'Raw (II)', 'Julia Ducournau', 'Paterson', 'Jim Jarmusch', 'Bridesmaids', 'The Girl with All the Gifts', 'Colm McCarthy', 'San Andreas', 'Brad Peyton', 'Spring Breakers', 'Harmony Korine', 'Transformers', 'Old Boy', 'Spike Lee', 'Thor: The Dark World', 'Alan Taylor', 'Gods of Egypt', 'Alex Proyas', 'Captain America: The Winter Soldier', 'Monster Trucks', 'Chris Wedge', 'A Dark Song', 'Liam Gavin', 'Kick-Ass', 'Hardcore Henry', 'Ilya Naishuller', 'Cars', 'John Lasseter', 'It Follows', 'David Robert Mitchell', 'The Girl with the Dragon Tattoo', \"We're the Millers\", 'American Honey', 'Andrea Arnold', 'The Lobster', 'Yorgos Lanthimos', 'Predators', 'Nimród Antal', 'Maleficent', 'Robert Stromberg', 'Rupture', 'Steven Shainberg', \"Pan's Labyrinth\", 'A Kind of Murder', 'Andy Goddard', 'Apocalypto', 'Mission: Impossible - Rogue Nation', 'Christopher McQuarrie', \"The Huntsman: Winter's War\", 'Cedric Nicolas-Troyan', 'The Perks of Being a Wallflower', 'Stephen Chbosky', 'Jackie', 'Pablo Larraín', 'The Disappointments Room', 'D.J. Caruso', 'The Grand Budapest Hotel', 'Wes Anderson', 'The Host', 'Andrew Niccol', 'Fury', 'Inside Out', 'Pete Docter', 'Rock Dog', 'Ash Brannon', 'Terminator Genisys', 'Percy Jackson & the Olympians: The Lightning Thief', 'Chris Columbus', 'Les Misérables', 'Tom Hooper', 'Children of Men', 'Alfonso Cuarón', '20th Century Women', 'Mike Mills', 'Spy', 'The Intouchables', 'Olivier Nakache', 'Bonjour Anne', 'Eleanor Coppola', 'Kynodontas', 'Straight Outta Compton', 'F. Gary Gray', 'The Amazing Spider-Man 2', 'Marc Webb', 'The Conjuring', 'The Hangover', 'Battleship', 'Rise of the Planet of the Apes', 'Rupert Wyatt', 'Lights Out', 'David F. Sandberg', 'Norman: The Moderate Rise and Tragic Fall of a New York Fixer', 'Joseph Cedar', 'Birdman or (The Unexpected Virtue of Ignorance)', 'Black Swan', 'Darren Aronofsky', 'Dear White People', 'Justin Simien', 'Nymphomaniac: Vol. I', 'Lars von Trier', 'Teenage Mutant Ninja Turtles: Out of the Shadows', 'Dave Green', 'Knock Knock', 'Eli Roth', 'Dirty Grandpa', 'Dan Mazer', 'Cloud Atlas', 'Tom Tykwer', 'X-Men Origins: Wolverine', 'Gavin Hood', 'Satanic', 'Jeffrey G. Hunt', 'Skyfall', 'The Hobbit: An Unexpected Journey', 'Peter Jackson', '21 Jump Street', 'Phil Lord', 'Sing Street', 'John Carney', 'Ballerina', 'Eric Summer', 'Oblivion', 'Joseph Kosinski', '22 Jump Street', 'Zodiac', 'Everybody Wants Some!!', 'Richard Linklater', 'Iron Man Three', 'Now You See Me', 'Louis Leterrier', 'Sherlock Holmes', 'Death Proof', 'The Danish Girl', 'Hercules', 'Brett Ratner', 'Sucker Punch', 'Keeping Up with the Joneses', 'Jupiter Ascending', 'Lana Wachowski', 'Masterminds', 'Jared Hess', 'Iris', 'Jalil Lespert', 'Busanhaeng', 'Sang-ho Yeon', 'Pitch Perfect', 'Jason Moore', 'Neighbors 2: Sorority Rising', 'Nicholas Stoller', 'The Exception', 'David Leveaux', 'Man of Steel', 'The Choice', 'Ross Katz', 'Ice Age: Collision Course', 'Mike Thurmeier', 'The Devil Wears Prada', 'The Infiltrator', 'Brad Furman', 'There Will Be Blood', 'Paul Thomas Anderson', 'The Equalizer', 'Lone Survivor', 'The Cabin in the Woods', 'Drew Goddard', 'The House Bunny', 'Fred Wolf', \"She's Out of My League\", 'Jim Field Smith', 'Inherent Vice', 'Alice Through the Looking Glass', 'James Bobin', 'Vincent N Roxxy', 'Gary Michael Schultz', 'The Fast and the Furious: Tokyo Drift', 'How to Be Single', 'Christian Ditter', 'The Blind Side', \"La vie d'Adèle\", 'Abdellatif Kechiche', 'The Babadook', 'Jennifer Kent', 'The Hobbit: The Battle of the Five Armies', 'Harry Potter and the Order of the Phoenix', 'Snowpiercer', 'Bong Joon Ho', 'The 5th Wave', 'J Blakeson', 'The Stakelander', 'Dan Berk', 'The Visit', 'Fast Five', 'Step Up', 'Anne Fletcher', 'Lovesong', 'So Yong Kim', 'RocknRolla', 'In Time', 'The Social Network', 'The Last Witch Hunter', 'Breck Eisner', 'Victor Frankenstein', 'Paul McGuigan', 'A Street Cat Named Bob', 'Roger Spottiswoode', 'Green Room', 'Jeremy Saulnier', 'Blackhat', 'Michael Mann', 'Storks', 'American Sniper', 'Dallas Buyers Club', 'Jean-Marc Vallée', 'Lincoln', 'Rush', 'Before I Wake', 'Mike Flanagan', 'Silver Linings Playbook', 'David O. Russell', 'Tracktown', 'Alexi Pappas', 'The Fault in Our Stars', 'Josh Boone', 'Blended', 'Frank Coraci', 'Fast & Furious', 'Looper', 'Rian Johnson', 'White House Down', \"Pete's Dragon\", 'David Lowery', 'Spider-Man 3', 'Sam Raimi', 'The Three Musketeers', 'Stardust', 'American Hustle', \"Jennifer's Body\", 'Karyn Kusama', 'Midnight in Paris', 'Woody Allen', 'Lady Macbeth', 'William Oldroyd', 'Joy', 'The Dressmaker', 'Jocelyn Moorhouse', 'Café Society', 'Insurgent', 'Seventh Son', 'Sergei Bodrov', 'Demain tout commence', 'Hugo Gélin', 'The Theory of Everything', 'James Marsh', 'This Is the End', 'Evan Goldberg', 'About Time', 'Richard Curtis', 'Step Brothers', 'Clown', 'Jon Watts', 'Star Trek Into Darkness', 'Zombieland', 'Ruben Fleischer', 'Hail, Caesar!', 'Slumdog Millionaire', 'Danny Boyle', 'The Twilight Saga: Breaking Dawn - Part 2', 'Bill Condon', 'American Wrestler: The Wizard', 'Alex Ranarivelo', 'The Amazing Spider-Man', 'Ben-Hur', 'Timur Bekmambetov', 'Sleight', 'J.D. Dillard', 'The Maze Runner', 'Wes Ball', 'Criminal', 'Ariel Vromen', 'Wanted', 'Florence Foster Jenkins', 'Stephen Frears', 'Collide', 'Eran Creevy', 'Black Mass', 'Scott Cooper', 'Creed', 'Ryan Coogler', 'Swiss Army Man', 'Dan Kwan', 'The Expendables 3', 'Patrick Hughes', 'What We Do in the Shadows', 'Jemaine Clement', 'Southpaw', 'Hush', 'Bridge of Spies', 'The Lego Movie', 'Everest', 'Baltasar Kormákur', 'Pixels', 'Robin Hood', 'The Wolverine', 'James Mangold', 'John Carter', 'Keanu', 'Peter Atencio', 'The Gunman', 'Pierre Morel', 'Steve Jobs', 'Whisky Galore', 'Gillies MacKinnon', 'Grown Ups 2', 'Dennis Dugan', 'The Age of Adaline', 'Lee Toland Krieger', 'The Incredible Hulk', 'Couples Retreat', 'Peter Billingsley', 'Absolutely Anything', 'Terry Jones', 'Magic Mike', 'Steven Soderbergh', 'Minions', 'Kyle Balda', 'The Black Room', 'Rolfe Kanefsky', 'Bronson', 'Despicable Me', 'Pierre Coffin', 'The Best of Me', 'Michael Hoffman', 'The Invitation', 'Zero Dark Thirty', 'Kathryn Bigelow', 'Tangled', 'Nathan Greno', 'The Hunger Games: Mockingjay - Part 2', 'Francis Lawrence', 'Vacation', 'John Francis Daley', 'Taken', 'Pitch Perfect 2', 'Elizabeth Banks', 'Monsters University', 'Dan Scanlon', 'Elle', 'Paul Verhoeven', 'Mechanic: Resurrection', 'Dennis Gansel', 'Tusk', 'Kevin Smith', \"The Headhunter's Calling\", 'Mark Williams', 'Atonement', 'Joe Wright', 'Harry Potter and the Deathly Hallows: Part 1', 'Shame', 'Hanna', 'The Babysitters', 'David Ross', 'Pride and Prejudice and Zombies', 'Burr Steers', '300: Rise of an Empire', 'Noam Murro', 'London Has Fallen', 'Babak Najafi', 'The Curious Case of Benjamin Button', 'Sin City: A Dame to Kill For', 'Frank Miller', 'The Bourne Ultimatum', 'Srpski film', 'Srdjan Spasojevic', 'The Purge: Election Year', 'James DeMonaco', '3 Idiots', 'Rajkumar Hirani', 'Zoolander 2', 'World War Z', 'Marc Forster', 'Mission: Impossible - Ghost Protocol', 'Let Me Make You a Martyr', 'Corey Asraf', 'Filth', 'Jon S. Baird', 'The Longest Ride', 'George Tillman Jr.', 'The imposible', 'Kick-Ass 2', 'Jeff Wadlow', 'Folk Hero & Funny Guy', 'Jeff Grace', 'Oz the Great and Powerful', 'Brooklyn', 'John Crowley', 'Coraline', 'Henry Selick', 'Blue Valentine', 'The Thinning', 'Michael J. Gallagher', 'Silent Hill', 'Christophe Gans', 'Dredd', 'Pete Travis', 'Hunt for the Wilderpeople', 'Taika Waititi', 'Big Hero 6', 'Don Hall', 'Carrie', 'Kimberly Peirce', 'Iron Man 2', 'Demolition', 'Pandorum', 'Christian Alvart', 'Olympus Has Fallen', 'I Am Number Four', 'Jagten', 'Thomas Vinterberg', 'The Proposal', 'Get Hard', 'Etan Cohen', 'Just Go with It', 'Revolutionary Road', 'The Town', 'The Boy', 'William Brent Bell', 'Denial', 'Mick Jackson', 'Predestination', 'Michael Spierig', 'Goosebumps', 'Rob Letterman', 'Sherlock Holmes: A Game of Shadows', 'Salt', 'Phillip Noyce', 'Enemy', 'District 9', 'Neill Blomkamp', 'The Other Guys', 'American Gangster', 'Marie Antoinette', 'Sofia Coppola', '2012', 'Harry Potter and the Half-Blood Prince', 'Argo', 'Eddie the Eagle', 'Dexter Fletcher', 'The Lives of Others', 'Florian Henckel von Donnersmarck', 'Pet', 'Carles Torrens', 'Paint It Black', 'Amber Tamblyn', 'Macbeth', 'Forgetting Sarah Marshall', 'The Giver', 'Triple 9', 'John Hillcoat', 'Perfetti sconosciuti', 'Paolo Genovese', 'Angry Birds', 'Clay Kaytis', 'Moonrise Kingdom', 'Hairspray', 'Adam Shankman', 'Safe Haven', 'Lasse Hallström', 'Focus', 'Ratatouille', 'Stake Land', 'Jim Mickle', 'The Book of Eli', 'Albert Hughes', 'Cloverfield', 'Point Break', 'Ericson Core', 'Under the Skin', 'Jonathan Glazer', 'I Am Legend', 'Men in Black 3', 'Barry Sonnenfeld', 'Super 8', 'Law Abiding Citizen', 'Up', 'Maze Runner: The Scorch Trials', 'Carol', 'Todd Haynes', 'Imperium', 'Daniel Ragussis', 'Youth', 'Paolo Sorrentino', 'Mr. Nobody', 'Jaco Van Dormael', 'City of Tiny Lights', 'Savages', '(500) Days of Summer', 'Movie 43', 'Gravity', 'The Boy in the Striped Pyjamas', 'Mark Herman', 'Shooter', 'The Happening', 'Bone Tomahawk', 'S. Craig Zahler', 'Magic Mike XXL', 'Gregory Jacobs', 'Easy A', 'Will Gluck', 'Exodus: Gods and Kings', 'Chappie', 'The Hobbit: The Desolation of Smaug', 'Half of a Yellow Sun', 'Biyi Bandele', 'Anthropoid', 'Sean Ellis', 'The Counselor', 'Viking', 'Andrey Kravchuk', 'Whiskey Tango Foxtrot', 'Trust', 'David Schwimmer', 'Birth of the Dragon', 'George Nolfi', 'Elysium', 'The Green Inferno', 'Godzilla', 'The Bourne Legacy', 'Tony Gilroy', 'A Good Year', 'Friend Request', 'Simon Verhoeven', 'Deja Vu', 'Tony Scott', 'Lucy', 'Luc Besson', 'A Quiet Passion', 'Terence Davies', 'Need for Speed', 'Scott Waugh', 'Jack Reacher', 'The Do-Over', 'Steven Brill', 'True Crimes', 'Alexandros Avranas', 'American Pastoral', 'Ewan McGregor', 'The Ghost Writer', 'Roman Polanski', 'Limitless', 'Spectral', 'Nic Mathieu', 'P.S. I Love You', 'Richard LaGravenese', 'Zipper', 'Mora Stephens', 'Midnight Special', 'Jeff Nichols', \"Don't Think Twice\", 'Mike Birbiglia', 'Alice in Wonderland', 'Chuck', 'Philippe Falardeau', 'I, Daniel Blake', 'Ken Loach', 'The Break-Up', 'Loving', 'Fantastic Four', 'Josh Trank', 'The Survivalist', 'Stephen Fingleton', 'Colonia', 'Florian Gallenberger', 'The Boy Next Door', 'Rob Cohen', 'The Gift', 'Joel Edgerton', 'Dracula Untold', 'Gary Shore', 'In the Heart of the Sea', 'Idiocracy', 'Mike Judge', 'The Expendables', 'Sylvester Stallone', 'Evil Dead', 'Sinister', 'Wreck-It Ralph', 'Rich Moore', 'Snow White and the Huntsman', 'Rupert Sanders', 'Pan', 'Transformers: Dark of the Moon', 'Juno', 'Jason Reitman', 'A Hologram for the King', 'Money Monster', 'Jodie Foster', 'The Other Woman', 'Nick Cassavetes', 'Enchanted', 'Kevin Lima', 'The Intern', 'Nancy Meyers', 'Little Miss Sunshine', 'Jonathan Dayton', 'Bleed for This', 'Ben Younger', 'Clash of the Titans', 'The Finest Hours', 'Craig Gillespie', 'Tron', 'The Hunger Games: Catching Fire', 'All Good Things', 'Andrew Jarecki', 'Kickboxer: Vengeance', 'John Stockwell', 'The Last Airbender', 'Sex Tape', 'Jake Kasdan', \"What to Expect When You're Expecting\", 'Kirk Jones', 'Moneyball', 'Bennett Miller', 'Ghost Rider', 'Mark Steven Johnson', 'Unbroken', 'Angelina Jolie', 'Immortals', 'Tarsem Singh', 'Sunshine', 'Brave', 'Mark Andrews', 'Män som hatar kvinnor', 'Niels Arden Oplev', 'Adoration', 'Anne Fontaine', 'The Drop', 'Michaël R. Roskam', \"She's the Man\", 'Andy Fickman', \"Daddy's Home\", 'Sean Anders', 'Let Me In', 'Never Back Down', 'Grimsby', 'Moon', 'Megamind', 'Tom McGrath', 'Gangster Squad', 'Blood Father', 'Jean-François Richet', \"He's Just Not That Into You\", 'Ken Kwapis', 'Kung Fu Panda 3', 'Alessandro Carloni', 'The Rise of the Krays', 'Zackary Adler', 'Handsome Devil', 'John Butler', \"Winter's Bone\", 'Debra Granik', 'Horrible Bosses', 'Seth Gordon', 'Mommy', 'Xavier Dolan', 'Hellboy II: The Golden Army', 'Beautiful Creatures', 'Toni Erdmann', 'Maren Ade', 'The Lovely Bones', 'The Assassination of Jesse James by the Coward Robert Ford', 'Andrew Dominik', 'Don Jon', 'Joseph Gordon-Levitt', 'Bastille Day', 'James Watkins', \"2307: Winter's Dream\", 'Joey Curtis', 'Free State of Jones', 'Mr. Right', 'Paco Cabezas', 'The Secret Life of Walter Mitty', 'Dope', 'Rick Famuyiwa', 'Underworld Awakening', 'Måns Mårlind', 'Antichrist', 'Friday the 13th', 'Marcus Nispel', 'Taken 3', 'Olivier Megaton', 'Total Recall', 'Len Wiseman', 'X-Men: The Last Stand', 'The Escort', 'Will Slocombe', 'The Whole Truth', 'Courtney Hunt', 'Night at the Museum: Secret of the Tomb', 'Shawn Levy', 'Love & Other Drugs', 'The Interview', 'Megan Is Missing', 'Michael Goi', 'WALL·E', 'Knocked Up', 'Source Code', 'Lawless', 'Unfriended', 'Levan Gabriadze', 'American Reunion', 'Jon Hurwitz', 'The Pursuit of Happyness', 'Gabriele Muccino', 'Relatos salvajes', 'Damián Szifron', 'The Ridiculous 6', 'Frantz', 'François Ozon', 'Viral', 'Gran Torino', 'Burnt', 'John Wells', 'Tall Men', 'Jonathan Holbrook', 'Sleeping Beauty', 'Julia Leigh', 'Vampire Academy', 'Mark Waters', 'Sweeney Todd: The Demon Barber of Fleet Street', 'Solace', 'Afonso Poyart', 'Insidious', 'Popstar: Never Stop Never Stopping', 'Akiva Schaffer', 'The Levelling', 'Hope Dickson Leach', 'Public Enemies', 'Boyhood', 'Teenage Mutant Ninja Turtles', 'Jonathan Liebesman', 'Eastern Promises', 'David Cronenberg', 'The Daughter', 'Simon Stone', 'Pineapple Express', 'David Gordon Green', 'The First Time', 'Jon Kasdan', 'Gone Baby Gone', 'The Heat', \"L'avenir\", 'Mia Hansen-Løve', 'Anna Karenina', 'Regression', 'Alejandro Amenábar', 'Ted 2', 'Seth MacFarlane', 'Pain & Gain', 'Blood Diamond', \"Devil's Knot\", 'Atom Egoyan', 'Child 44', 'Daniel Espinosa', 'The Hurt Locker', 'Green Lantern', 'War on Everyone', 'John Michael McDonagh', 'The Mist', 'Frank Darabont', 'Escape Plan', 'Mikael Håfström', 'Love, Rosie', 'The DUFF', 'Ari Sandel', 'The Age of Shadows', 'Jee-woon Kim', 'The Hunger Games: Mockingjay - Part 1', 'We Need to Talk About Kevin', 'Lynne Ramsay', 'Love & Friendship', 'Whit Stillman', 'The Mortal Instruments: City of Bones', 'Harald Zwart', 'Seven Pounds', \"The King's Speech\", 'Hunger', 'Jumper', 'Toy Story 3', 'Lee Unkrich', 'Tinker Tailor Soldier Spy', 'Tomas Alfredson', 'Resident Evil: Retribution', 'Dear Zindagi', 'Gauri Shinde', 'Genius', 'Michael Grandage', 'Pompeii', 'Life of Pi', \"Hachi: A Dog's Tale\", '10 Years', 'Jamie Linden', 'I Origins', 'Mike Cahill', 'Live Free or Die Hard', 'The Matchbreaker', 'Caleb Vetter', 'Funny Games', 'Michael Haneke', 'Ted', 'RED', 'Australia', 'Faster', 'The Neighbor', 'Marcus Dunstan', 'The Adjustment Bureau', 'The Hollars', 'John Krasinski', 'The Judge', 'David Dobkin', 'Closed Circuit', 'Transformers: Revenge of the Fallen', 'La tortue rouge', 'Michael Dudok de Wit', 'The Book of Life', 'Jorge R. Gutiérrez', 'Incendies', 'The Heartbreak Kid', 'Bobby Farrelly', 'Happy Feet', 'Entourage', 'Doug Ellin', 'The Strangers', 'Bryan Bertino', 'Noah', 'Neighbors', 'Nymphomaniac: Vol. II', 'Wild', 'Grown Ups', 'Blair Witch', 'Adam Wingard', 'The Karate Kid', 'Dark Shadows', 'Friends with Benefits', 'The Illusionist', 'The A-Team', 'Joe Carnahan', 'The Guest', 'The Internship', 'Paul', 'This Beautiful Fantastic', 'Simon Aboud', 'The Da Vinci Code', 'Mr. Church', 'Bruce Beresford', 'Hugo', \"The Blackcoat's Daughter\", 'Oz Perkins', 'Body of Lies', 'Knight of Cups', 'Terrence Malick', 'The Mummy: Tomb of the Dragon Emperor', 'The Boss', 'Ben Falcone', 'Hands of Stone', 'Jonathan Jakubowicz', 'El secreto de sus ojos', 'Juan José Campanella', 'True Grit', 'We Are Your Friends', 'Max Joseph', 'A Million Ways to Die in the West', 'Only for One Night', 'Chris Stokes', \"Rules Don't Apply\", 'Warren Beatty', 'Ouija: Origin of Evil', 'Percy Jackson: Sea of Monsters', 'Fracture', 'Gregory Hoblit', 'Oculus', 'In Bruges', 'Martin McDonagh', 'This Means War', 'McG', 'Lída Baarová', 'Filip Renc', 'The Road', 'Lavender', 'Ed Gass-Donnelly', 'Deuces', 'Jamal Hill', 'Conan the Barbarian', 'The Fighter', 'August Rush', 'Kirsten Sheridan', 'Chef', 'Eye in the Sky', 'Eagle Eye', 'The Purge', 'PK', \"Ender's Game\", 'Indiana Jones and the Kingdom of the Crystal Skull', 'Paper Towns', 'Jake Schreier', 'High-Rise', 'Quantum of Solace', 'The Assignment', 'Walter Hill', 'How to Train Your Dragon', 'Dean DeBlois', 'Lady in the Water', 'The Fountain', 'Cars 2', '31', 'Rob Zombie', 'Final Girl', 'Tyler Shields', 'Chalk It Up', 'Hisonni Johnson', 'The Man Who Knew Infinity', 'Matt Brown', 'Unknown', 'Self/less', 'Mr. Brooks', 'Bruce A. Evans', 'Tramps', 'Adam Leon', 'Before We Go', 'Chris Evans', 'Captain Phillips', 'The Secret Scripture', 'Jim Sheridan', 'Max Steel', 'Stewart Hendler', 'Hotel Transylvania 2', 'Genndy Tartakovsky', 'Hancock', 'Sisters', 'The Family', 'Zack and Miri Make a Porno', 'Ma vie de Courgette', 'Claude Barras', 'Man on a Ledge', 'Asger Leth', 'No Strings Attached', 'Ivan Reitman', 'Rescue Dawn', 'Werner Herzog', 'Despicable Me 2', 'A Walk Among the Tombstones', 'Scott Frank', \"The World's End\", 'Yoga Hosers', 'Seven Psychopaths', 'Beowulf', 'Jack Ryan: Shadow Recruit', '1408', 'The Gambler', 'Prince of Persia: The Sands of Time', 'Mike Newell', 'The Spectacular Now', 'James Ponsoldt', 'A United Kingdom', 'Amma Asante', 'USS Indianapolis: Men of Courage', 'Mario Van Peebles', 'Turbo Kid', 'François Simard', 'Mama', 'Andrés Muschietti', 'Orphan', 'To Rome with Love', 'Fantastic Mr. Fox', 'Inside Man', 'I.T.', 'John Moore', '127 Hours', 'Annabelle', 'John R. Leonetti', 'Wolves at the Door', 'Suite Française', 'Saul Dibb', 'The Imaginarium of Doctor Parnassus', 'Terry Gilliam', 'G.I. Joe: The Rise of Cobra', 'Stephen Sommers', 'Christine', 'Antonio Campos', 'Man Down', 'Dito Montiel', 'Crawlspace', 'Phil Claydon', 'Shut In', 'Farren Blackburn', 'The Warriors Gate', 'Matthias Hoene', 'Grindhouse', 'Robert Rodriguez', 'Disaster Movie', 'Jason Friedberg', 'Rocky Balboa', 'Diary of a Wimpy Kid: Dog Days', 'David Bowers', 'Jane Eyre', 'Cary Joji Fukunaga', \"Fool's Gold\", 'Andy Tennant', 'The Dictator', 'Larry Charles', 'The Loft', 'Erik Van Looy', 'Bacalaureat', 'Cristian Mungiu', \"You Don't Mess with the Zohan\", 'Exposed', 'Gee Malik Linton', 'Maudie', 'Aisling Walsh', 'Horrible Bosses 2', 'A Bigger Splash', 'Luca Guadagnino', 'Melancholia', 'The Princess and the Frog', 'Unstoppable', 'Flight', 'Home', 'Tim Johnson', 'La migliore offerta', 'Giuseppe Tornatore', 'Mean Dreams', 'Nathan Morlando', '42', '21', 'Robert Luketic', 'Begin Again', 'Out of the Furnace', 'Vicky Cristina Barcelona', 'Kung Fu Panda', 'Mark Osborne', 'Barbershop: The Next Cut', 'Malcolm D. Lee', 'Terminator Salvation', 'Freedom Writers', 'The Hills Have Eyes', 'Alexandre Aja', 'Changeling', 'Remember Me', 'Allen Coulter', 'Koe no katachi', 'Naoko Yamada', 'Alexander and the Terrible, Horrible, No Good, Very Bad Day', 'Miguel Arteta', 'Locke', 'Steven Knight', 'The 9th Life of Louis Drax', 'Horns', 'Indignation', 'James Schamus', 'The Stanford Prison Experiment', 'Kyle Patrick Alvarez', 'Diary of a Wimpy Kid: Rodrick Rules', 'Mission: Impossible III', 'En man som heter Ove', 'Hannes Holm', 'Dragonball Evolution', 'James Wong', 'Red Dawn', 'Dan Bradley', 'One Day', 'Life as We Know It', 'Greg Berlanti', '28 Weeks Later', 'Juan Carlos Fresnadillo', 'Warm Bodies', 'Jonathan Levine', 'Blue Jasmine', 'G.I. Joe: Retaliation', 'Wrath of the Titans', 'Shin Gojira', 'Hideaki Anno', 'Saving Mr. Banks', 'Transcendence', 'Wally Pfister', 'Rio', 'Carlos Saldanha', 'Equals', 'Drake Doremus', 'Babel', 'The Tree of Life', 'The Lucky One', 'Piranha 3D', '50/50', 'The Intent', 'Femi Oyeniran', 'This Is 40', 'Real Steel', 'Sex and the City', 'Michael Patrick King', 'Rambo', 'Planet Terror', 'Concussion', 'Peter Landesman', 'The Fall', 'The Ugly Truth', 'Bride Wars', 'Gary Winick', 'Sleeping with Other People', 'Leslye Headland', 'Snakes on a Plane', 'David R. Ellis', 'What If', 'Michael Dowse', 'How to Train Your Dragon 2', 'RoboCop', 'José Padilha', 'In Dubious Battle', 'James Franco', 'Hello, My Name Is Doris', 'Michael Showalter', \"Ocean's Thirteen\", 'Slither', 'Contagion', 'Il racconto dei racconti - Tale of Tales', 'Matteo Garrone', 'I Am the Pretty Thing That Lives in the House', 'Bridge to Terabithia', 'Gabor Csupo', 'Coherence', 'James Ward Byrkit', 'Notorious', 'Goksung', 'Hong-jin Na', 'The Expendables 2', 'Simon West', 'The Girl Next Door', 'Gregory Wilson', 'Perfume: The Story of a Murderer', 'The Golden Compass', 'Chris Weitz', 'Centurion', 'Neil Marshall', 'Scouts Guide to the Zombie Apocalypse', 'Christopher Landon', '17 Again', 'No Escape', 'John Erick Dowdle', 'Superman Returns', 'The Twilight Saga: Breaking Dawn - Part 1', 'Precious', 'Lee Daniels', 'The Sea of Trees', 'Gus Van Sant', 'Good Kids', 'Chris McCoy', 'The Master', 'Footloose', 'Craig Brewer', 'If I Stay', 'R.J. Cutler', 'The Ticket', 'Ido Fluk', 'Detour', 'Christopher Smith', 'The Love Witch', 'Anna Biller', 'Talladega Nights: The Ballad of Ricky Bobby', 'The Human Centipede (First Sequence)', 'Tom Six', 'Super', 'The Siege of Jadotville', 'Richie Smyth', 'Up in the Air', 'The Midnight Meat Train', 'Ryûhei Kitamura', 'The Twilight Saga: Eclipse', 'David Slade', 'Transpecos', 'Greg Kwedar', \"What's Your Number?\", 'Mark Mylod', 'Riddick', 'David Twohy', 'Triangle', 'The Butler', 'King Cobra', 'Justin Kelly', 'After Earth', 'Kicks', 'Justin Tipping', 'Me and Earl and the Dying Girl', 'Alfonso Gomez-Rejon', 'The Descendants', 'Alexander Payne', 'Sex and the City 2', 'The Kings of Summer', 'Jordan Vogt-Roberts', 'Death Race', 'That Awkward Moment', 'Tom Gormican', 'Legion', 'Scott Stewart', 'End of Watch', '3 Days to Kill', 'Lucky Number Slevin', 'Trance', 'Into the Forest', 'Patricia Rozema', 'The Other Boleyn Girl', 'Justin Chadwick', 'I Spit on Your Grave', 'Steven R. Monroe', 'Custody', 'James Lapine', 'Inland Empire', \"L'odyssée\", 'Jérôme Salle', 'The Walk', 'Wrecker', 'Micheal Bafaro', 'The Lone Ranger', 'Texas Chainsaw 3D', 'John Luessenhop', 'Disturbia', 'Rock of Ages', 'Scream 4', 'Wes Craven', 'Queen of Katwe', 'Mira Nair', 'My Big Fat Greek Wedding 2', 'Dark Places', 'Gilles Paquet-Brenner', 'Amateur Night', 'Lisa Addario', \"It's Only the End of the World\", 'The Skin I Live In', 'Pedro Almodóvar', 'Miracles from Heaven', 'Patricia Riggen', 'Annie', 'Across the Universe', 'Julie Taymor', \"Let's Be Cops\", 'Luke Greenfield', 'Max', 'Boaz Yakin', 'Your Highness', 'Final Destination 5', 'Steven Quale', 'Endless Love', 'Shana Feste', 'Martyrs', 'Pascal Laugier', 'Selma', 'Ava DuVernay', 'Underworld: Rise of the Lycans', 'Patrick Tatopoulos', 'Taare Zameen Par', 'Aamir Khan', 'Take Me Home Tonight', 'Resident Evil: Afterlife', 'Project X', 'Nima Nourizadeh', 'Secret in Their Eyes', 'Billy Ray', 'Hostel: Part II', 'Step Up 2: The Streets', 'Search Party', 'Scot Armstrong', 'Nine Lives', 'Chris Pratt', 'Vin Diesel', 'Bradley Cooper', 'Zoe Saldana', 'Noomi Rapace', 'Logan Marshall-Green', 'Michael Fassbender', 'Charlize Theron', 'James McAvoy', 'Anya Taylor-Joy', 'Haley Lu Richardson', 'Jessica Sula', 'Matthew McConaughey', 'Reese Witherspoon', 'Scarlett Johansson', 'Will Smith', 'Jared Leto', 'Margot Robbie', 'Viola Davis', 'Matt Damon', 'Tian Jing', 'Willem Dafoe', 'Andy Lau', 'Ryan Gosling', 'Emma Stone', 'Rosemarie DeWitt', 'J.K. Simmons', 'Essie Davis', 'Andrea Riseborough', 'Julian Barratt', 'Charlie Hunnam', 'Robert Pattinson', 'Sienna Miller', 'Tom Holland', 'Jennifer Lawrence', 'Michael Sheen', 'Laurence Fishburne', 'Eddie Redmayne', 'Katherine Waterston', 'Alison Sudol', 'Dan Fogler', 'Taraji P. Henson', 'Octavia Spencer', 'Janelle Monáe', 'Kevin Costner', 'Felicity Jones', 'Diego Luna', 'Alan Tudyk', 'Donnie Yen', \"Auli'i Cravalho\", 'Dwayne Johnson', 'Rachel House', 'Temuera Morrison', 'Anne Hathaway', 'Jason Sudeikis', 'Austin Stowell', 'Tim Blake Nelson', 'Louis C.K.', 'Eric Stonestreet', 'Kevin Hart', 'Lake Bell', 'Andrew Garfield', 'Sam Worthington', 'Luke Bracey', 'Teresa Palmer', 'Tommy Lee Jones', 'Alicia Vikander', 'Vincent Cassel', 'Dev Patel', 'Nicole Kidman', 'Rooney Mara', 'Sunny Pawar', 'Amy Adams', 'Jeremy Renner', 'Forest Whitaker', 'Michael Stuhlbarg', 'Edgar Ramírez', 'Bryce Dallas Howard', 'Corey Stoll', 'Casey Affleck', 'Michelle Williams', 'Kyle Chandler', 'Lucas Hedges', 'Emma Booth', 'Ashleigh Cummings', 'Stephen Curry', 'Susie Porter', 'Anna Kendrick', 'Justin Timberlake', 'Zooey Deschanel', 'Christopher Mintz-Plasse', 'Liam Hemsworth', 'Jeff Goldblum', 'Bill Pullman', 'Maika Monroe', 'Fiona Gordon', 'Emmanuelle Riva', 'Pierre Richard', 'Prabhas', 'Rana Daggubati', 'Anushka Shetty', 'Tamannaah Bhatia', 'Jocelin Donahue', 'Jesse Bradford', 'Jesse Borrego', 'Lori Petty', 'Mila Kunis', 'Kathryn Hahn', 'Kristen Bell', 'Christina Applegate', 'Marion Cotillard', 'Jeremy Irons', 'Brendan Gleeson', 'Zoey Deutch', 'Tangie Ambrose', 'Cedric the Entertainer', 'Jake Gyllenhaal', 'Michael Shannon', 'Aaron Taylor-Johnson', 'Nicholas Hoult', 'Ryan Reynolds', 'Morena Baccarin', 'T.J. Miller', 'Ed Skrein', 'Milla Jovovich', 'Iain Glen', 'Ali Larter', 'Shawn Roberts', 'Robert Downey Jr.', 'Sebastian Stan', 'Jessica Chastain', 'Mackenzie Foy', 'Benedict Cumberbatch', 'Chiwetel Ejiofor', 'Rachel McAdams', 'Benedict Wong', 'Ethan Hawke', \"Vincent D'Onofrio\", 'Austin Pendleton', 'Colleen Camp', 'Neil Flynn', 'Seth Rogen', 'Kristen Wiig', 'Jonah Hill', 'Alistair Abell', 'Mahershala Ali', 'Shariff Earp', 'Duan Sanderson', 'Alex R. Hibbert', 'Brittany Blanton', 'Ayse Howard', 'Roman Jossart', 'Nadia White', 'Michael Keaton', 'Nick Offerman', 'John Carroll Lynch', 'Linda Cardellini', 'Gabriel Chavarria', 'Demián Bichir', 'Theo Rossi', 'Tony Revolori', 'Johnny Depp', 'Penélope Cruz', 'Ian McShane', 'Geoffrey Rush', 'Mark Strong', 'Gugu Mbatha-Raw', 'Hermione Corfield', 'Addison Timlin', 'Joely Richardson', 'Jeremy Irvine', 'Chris Pine', 'Zachary Quinto', 'Karl Urban', 'Javier Bardem', 'Adèle Exarchopoulos', 'Jared Harris', 'Daisy Ridley', 'John Boyega', 'Oscar Isaac', 'Domhnall Gleeson', 'Kate Beckinsale', 'Theo James', 'Tobias Menzies', 'Lara Pulver', 'Jennifer Aniston', 'Kate Hudson', 'Julia Roberts', 'Keanu Reeves', 'Michael Nyqvist', 'Alfie Allen', 'Christian Bale', 'Heath Ledger', 'Aaron Eckhart', 'Michael Caine', 'Adam Driver', 'Liam Neeson', 'Tadanobu Asano', 'Stephen Lang', 'Jane Levy', 'Dylan Minnette', 'Daniel Zovatto', 'Emilia Clarke', 'Sam Claflin', 'Janet McTeer', 'Charles Dance', 'Gemma Arterton', 'Bill Nighy', 'Jack Huston', 'Tom Hanks', 'Laura Linney', 'Valerie Mahaffey', 'Henry Cavill', 'Jesse Eisenberg', 'Brian Cox', 'Emile Hirsch', 'Ophelia Lovibond', 'Michael McElhatton', 'Emily Blunt', 'Haley Bennett', 'Rebecca Ferguson', 'Justin Theroux', 'Dakota Johnson', 'Jamie Dornan', 'Jennifer Ehle', 'Eloise Mumford', 'Hugh Jackman', 'Colin Firth', 'Taron Egerton', 'Samuel L. Jackson', 'Mark Wahlberg', 'Michelle Monaghan', 'John Goodman', 'Tom Hardy', 'Zoë Kravitz', 'Bryan Cranston', 'Jennifer Garner', \"Beverly D'Angelo\", \"Jason O'Mara\", 'Kurt Russell', 'Douglas M. Griffin', 'James DuMont', 'Charlotte Le Bon', 'Daniel Giménez Cacho', 'Brad Pitt', 'Vincent Ebrahim', 'Lewis MacDougall', 'Sigourney Weaver', 'Toby Kebbell', 'Edward Norton', 'Kate Winslet', 'Michael Peña', 'Ginnifer Goodwin', 'Jason Bateman', 'Idris Elba', 'Jenny Slate', 'Orlando Bloom', 'Keira Knightley', 'Diane Kruger', 'Mélanie Laurent', 'Jack Davenport', 'Melissa McCarthy', 'Kate McKinnon', 'Leslie Jones', 'Leonardo DiCaprio', 'Ellen Page', 'Ken Watanabe', 'Viggo Mortensen', 'George MacKay', 'Samantha Isler', 'Annalise Basso', 'Rosamund Pike', 'Neil Patrick Harris', 'Tyler Perry', 'Paul Walker', 'Jason Statham', 'Ty Simpkins', 'Judy Greer', 'Elle Fanning', 'Chris Messina', 'Michelle Rodriguez', 'Jennifer Jason Leigh', 'Walton Goggins', 'Jon Bernthal', 'Melissa Leo', 'Travis Fimmel', 'Paula Patton', 'Ben Foster', 'Dominic Cooper', 'Miles Teller', 'Steve Lantz', 'Gregg Weiner', 'Mark Ruffalo', 'Chris Hemsworth', 'Russell Crowe', 'Angourie Rice', 'Matt Bomer', 'Ryûnosuke Kamiki', 'Mone Kamishiraishi', 'Ryô Narita', 'Aoi Yuki', 'Aaron Poole', 'Kenneth Welsh', 'Daniel Fathers', 'Kathleen Munroe', 'Kristen Stewart', 'Lars Eidinger', 'Sigrid Bouaziz', 'Anders Danielsen Lie', 'Jack Nicholson', 'Emily Browning', 'Paul Anderson', 'Anthony Hopkins', 'Natalie Portman', 'Tom Hiddleston', 'Kate Mara', 'Mario Casas', 'Ana Wagener', 'José Coronado', 'Bárbara Lennie', 'Armie Hammer', 'Elizabeth Debicki', 'Jeff Bridges', 'Gil Birmingham', 'Robert De Niro', 'Leslie Mann', 'Danny DeVito', 'Edie Falco', 'Alexander Skarsgård', 'Rory J. Saper', 'Christian Stevens', 'Christoph Waltz', 'Eve Lindley', 'Richard Kind', 'Mark Consuelos', 'Katherine Reis', 'Sonoya Mizuno', 'John Gallagher Jr.', 'Tony Goldwyn', 'Adria Arjona', 'John C. McGinley', 'Michael Kenneth Williams', 'Jason Momoa', 'Jim Carrey', 'Gerard Butler', 'Lena Headey', 'David Wenham', 'Dominic West', 'Daniel Radcliffe', 'Emma Watson', 'Rupert Grint', 'Michael Gambon', 'Olivia Munn', 'Christina Hendricks', 'Karl Glusman', 'Sakshi Tanwar', 'Fatima Sana Shaikh', 'Sanya Malhotra', 'Mary Elizabeth Winstead', 'Ellen DeGeneres', 'Albert Brooks', \"Ed O'Neill\", 'Kaitlin Olson', 'Eva Green', 'Asa Butterfield', 'Judi Dench', 'Shailene Woodley', 'Jai Courtney', 'Zac Efron', 'Adam Devine', 'Aubrey Plaza', 'Scott Adkins', 'Teodora Duhovnikova', 'Alon Aboutboul', 'Julian Vergov', 'Gary Oldman', 'Neel Sethi', 'Bill Murray', 'Ben Kingsley', 'Nicola Peltz', 'Jack Reynor', 'Stanley Tucci', 'Emma Roberts', 'Dave Franco', 'Emily Meade', 'Miles Heizer', 'Meryl Streep', 'Pierce Brosnan', 'Amanda Seyfried', 'Stellan Skarsgård', 'Will Poulter', 'Stephen Henderson', 'Jovan Adepo', 'Blake Lively', 'Óscar Jaenada', 'Angelo Josue Lozano Corzo', 'Brett Cullen', 'Melissa Benoist', 'Paul Reiser', 'Eva Mendes', 'Craig Van Hook', 'Josh Brolin', 'Woody Harrelson', 'Carey Mulligan', 'Tobey Maguire', 'Emily Mortimer', 'Dakota Fanning', 'Guy Pearce', 'Kit Harington', 'Carice van Houten', 'Simon Pegg', 'Leonard Nimoy', 'Zachary Gordon', 'Robert Capron', 'Rachael Harris', 'Steve Zahn', 'Steve Carell', 'Brie Larson', 'Jacob Tremblay', 'Sean Bridgers', 'Wendy Crewson', 'Jamie Foxx', 'Kerry Washington', 'Min-hee Kim', 'Jung-woo Ha', 'Jin-woong Jo', 'So-ri Moon', 'Hailee Steinfeld', 'Blake Jenner', 'Kyra Sedgwick', 'Jackie Earle Haley', 'Patrick Wilson', 'Carla Gugino', 'Malin Akerman', 'Michael Cera', 'Bill Hader', 'Irrfan Khan', 'Mark Rylance', 'Ruby Barnhill', 'Penelope Wilton', 'Josh Hutcherson', 'Morgan Saylor', 'Brian Marc', 'Justin Bartha', 'Adrian Martinez', 'Benicio Del Toro', 'Chris Isaak', 'Kiefer Sutherland', 'C.H. Evans', 'Sandra Kinder', 'Reiko Aylesworth', 'Steven Pasquale', 'Shareeka Epps', 'John Ortiz', 'Rinko Kikuchi', 'Charlie Day', 'Julianne Moore', 'Kieran Culkin', 'Alison Pill', 'Nick Frost', 'Martin Freeman', 'Annabelle Wallis', 'Tom Cullen', 'Clint Dyer', 'Sharlto Copley', 'Cillian Murphy', 'Patrick Stewart', 'Ian McKellen', 'Tom Cruise', 'Cobie Smulders', 'Aldis Hodge', 'Robert Knepper', 'Daniel Craig', 'Jeffrey Wright', 'Billy Burke', 'Sarah Clarke', 'Helen Mirren', 'Daniel Brühl', 'Pablo Schreiber', 'James Badge Dale', 'David Denman', 'Léa Seydoux', 'Ralph Fiennes', 'Rene Russo', 'Bill Paxton', 'Riz Ahmed', 'Art Parkinson', 'Graham Skipper', 'Chase Williamson', 'Brea Grant', 'Barbara Crampton', 'Joaquin Phoenix', 'Idina Menzel', 'Jonathan Groff', 'Josh Gad', 'George Clooney', 'Britt Robertson', 'Hugh Laurie', 'Raffey Cassidy', 'Keri Russell', 'Andy Serkis', 'Kodi Smit-McPhee', 'Jack Black', 'Jeff Kahn', 'Vera Farmiga', 'Madison Wolfe', \"Frances O'Connor\", 'Paul Rudd', 'Michael Douglas', 'Evangeline Lilly', 'Renée Zellweger', 'Gemma Jones', 'Jim Broadbent', 'Sally Phillips', 'Ralph Ineson', 'Kate Dickie', 'Julian Richings', 'Lily James', 'Cate Blanchett', 'Richard Madden', 'Helena Bonham Carter', 'Tom Hughes', 'Oona Chaplin', 'Barry Ward', 'Taraneh Alidoosti', 'Shahab Hosseini', 'Babak Karimi', 'Farid Sajjadi Hosseini', 'Aomi Muyock', 'Klara Kristin', 'Juan Saavedra', 'Joe Alwyn', 'Garrett Hedlund', 'Arturo Castro', 'Mason Lee', 'Mia Wasikowska', 'Amy Schumer', 'Colin Quinn', 'Rachel Weisz', 'Florence Clery', 'Erika Linder', 'Natalie Krill', 'Sebastian Pigott', 'Mayko Nguyen', 'Liev Schreiber', 'Rose Leslie', 'Michael Yare', 'Nick Nolte', 'Jennifer Morrison', 'Hugo Weaving', 'Hayley Atwell', 'Callan McAuliffe', 'Lorraine Nicholson', 'Daniel Eric Gold', 'Clifton Collins Jr.', 'Vince Vaughn', 'Catherine Keener', 'Marcia Gay Harden', 'Matthew Goode', 'Allen Leech', 'Danielle Nicolet', 'Amy Ryan', 'Dane DeHaan', 'Jason Isaacs', 'Mia Goth', 'Ivo Nandi', 'Gwyneth Paltrow', 'Terrence Howard', 'Jeff Daniels', 'Naomi Watts', 'Kevin Bacon', 'Garance Marillier', 'Ella Rumpf', 'Rabah Nait Oufella', 'Laurent Lucas', 'Golshifteh Farahani', 'Nellie', 'Rizwan Manji', 'Maya Rudolph', 'Rose Byrne', 'Terry Crews', 'Glenn Close', 'Dominique Tipper', 'Paddy Considine', 'Alexandra Daddario', 'Colton Haynes', 'Vanessa Hudgens', 'Selena Gomez', 'Ashley Benson', 'Rachel Korine', 'Shia LaBeouf', 'Megan Fox', 'Josh Duhamel', 'Tyrese Gibson', 'Elizabeth Olsen', 'Brenton Thwaites', 'Nikolaj Coster-Waldau', 'Chadwick Boseman', 'Robert Redford', 'Lucas Till', 'Thomas Lennon', 'Barry Pepper', 'Mark Huberman', 'Susan Loughnane', 'Steve Oram', 'Catherine Walker', 'Nicolas Cage', 'Chloë Grace Moretz', 'Garrett M. Brown', 'Tim Roth', 'Danila Kozlovsky', 'Owen Wilson', 'Bonnie Hunt', 'Paul Newman', 'Larry the Cable Guy', 'Keir Gilchrist', 'Olivia Luccardi', 'Lili Sepe', 'Christopher Plummer', 'Ed Helms', 'Sasha Lane', 'Riley Keough', 'McCaul Lombardi', 'Colin Farrell', 'Jessica Barden', 'Olivia Colman', 'Adrien Brody', 'Topher Grace', 'Alice Braga', 'Lesley Manville', 'Michael Chiklis', 'Kerry Bishé', 'Peter Stormare', 'Ivana Baquero', 'Ariadna Gil', 'Sergi López', 'Maribel Verdú', 'Jessica Biel', 'Vincent Kartheiser', 'Gerardo Taracena', 'Raoul Max Trujillo', 'Dalia Hernández', 'Rudy Youngblood', 'Logan Lerman', 'Ezra Miller', 'Peter Sarsgaard', 'Greta Gerwig', 'Billy Crudup', 'Mel Raido', 'Duncan Joiner', 'F. Murray Abraham', 'Mathieu Amalric', 'Saoirse Ronan', 'Max Irons', 'Jake Abel', 'Amy Poehler', 'Lewis Black', 'Mindy Kaling', 'Luke Wilson', 'Eddie Izzard', 'Arnold Schwarzenegger', 'Jason Clarke', 'Kevin McKidd', 'Steve Coogan', 'Brandon T. Jackson', 'Clive Owen', 'Annette Bening', 'Jude Law', 'François Cluzet', 'Omar Sy', 'Anne Le Ny', 'Audrey Fleurot', 'Diane Lane', 'Alec Baldwin', 'Arnaud Viard', 'Linda Gegusch', 'Christos Stergioglou', 'Michele Valley', 'Angeliki Papoulia', 'Hristos Passalis', \"O'Shea Jackson Jr.\", 'Corey Hawkins', 'Jason Mitchell', 'Neil Brown Jr.', 'Paul Giamatti', 'Ron Livingston', 'Lili Taylor', 'Zach Galifianakis', 'Brooklyn Decker', 'Rihanna', 'Freida Pinto', 'Karin Konoval', 'Gabriel Bateman', 'Maria Bello', 'Richard Gere', 'Lior Ashkenazi', 'Charlotte Gainsbourg', 'Winona Ryder', 'Tyler James Williams', 'Tessa Thompson', 'Kyle Gallner', 'Teyonah Parris', 'Stacy Martin', 'Will Arnett', 'Lorenza Izzo', 'Ana de Armas', 'Aaron Burns', 'Halle Berry', 'Hugh Grant', 'Danny Huston', 'Sarah Hyland', 'Steven Krueger', 'Justin Chon', 'Clara Mamet', 'Naomie Harris', 'Richard Armitage', 'Channing Tatum', 'Ice Cube', 'Ferdia Walsh-Peelo', 'Aidan Gillen', 'Maria Doyle Kennedy', 'Carly Rae Jepsen', 'Maddie Ziegler', 'Morgan Freeman', 'Olga Kurylenko', 'Anthony Edwards', 'Tyler Hoechlin', 'Ryan Guzman', 'Don Cheadle', 'Common', 'Zoë Bell', 'Rosario Dawson', 'Vanessa Ferlito', 'Amber Heard', 'Ben Whishaw', 'John Hurt', 'Joseph Fiennes', 'Abbie Cornish', 'Jena Malone', 'Isla Fisher', 'Jon Hamm', 'Gal Gadot', 'Sean Bean', 'Ross Kimball', 'Romain Duris', 'Camille Cottin', 'Yoo Gong', 'Soo-an Kim', 'Yu-mi Jung', 'Dong-seok Ma', 'Brittany Snow', 'Rebel Wilson', 'Anna Camp', 'Loïs van Wijk', 'Benjamin Walker', 'Maggie Grace', 'Ray Romano', 'Denis Leary', 'John Leguizamo', 'Adrian Grenier', 'Daniel Day-Lewis', 'Paul Dano', 'Ciarán Hinds', 'Martin Stringer', 'Marton Csokas', 'David Harbour', 'Taylor Kitsch', 'Kristen Connolly', 'Anna Hutchison', 'Fran Kranz', 'Anna Faris', 'Colin Hanks', 'Kat Dennings', 'Jay Baruchel', 'Alice Eve', 'Mike Vogel', 'Emory Cohen', 'Lucas Black', 'Zachery Ty Bryan', 'Shad Moss', 'Damien Marzette', 'Alison Brie', 'Quinton Aaron', 'Sandra Bullock', 'Tim McGraw', 'Jae Head', 'Salim Kechiouche', 'Aurélien Recoing', 'Noah Wiseman', 'Daniel Henshall', 'Hayley McElhinney', 'Jamie Bell', 'Tilda Swinton', 'Ed Harris', 'Matthew Zuk', 'Gabriela Lopez', 'Bailey Anne Borders', 'Connor Paolo', 'Nick Damici', 'Laura Abramsen', 'A.C. Peterson', 'Olivia DeJonge', 'Ed Oxenbould', 'Deanna Dunagan', 'Peter McRobbie', 'Jordana Brewster', 'Jenna Dewan Tatum', 'Damaine Radcliff', \"De'Shawn Washington\", 'Jessie Ok Gray', 'Tom Wilkinson', 'Thandie Newton', 'Olivia Wilde', 'Elijah Wood', 'Ólafur Darri Ólafsson', 'Jessica Brown Findlay', 'Andrew Scott', 'Luke Treadaway', 'Bob the Cat', 'Ruta Gedmintas', 'Joanne Froggatt', 'Anton Yelchin', 'Imogen Poots', 'Alia Shawkat', 'Wei Tang', 'Leehom Wang', 'Andy Samberg', 'Katie Crown', 'Kelsey Grammer', 'Cole Konis', 'Sally Field', 'David Strathairn', 'Alexandra Maria Lara', 'Kate Bosworth', 'Thomas Jane', 'Annabeth Gish', 'Jacki Weaver', 'Chase Offerle', 'Rachel Dratch', 'Andy Buckley', 'Ansel Elgort', 'Nat Wolff', 'Laura Dern', 'Adam Sandler', 'Drew Barrymore', 'Wendi McLendon-Covey', 'Kevin Nealon', 'Bruce Willis', 'Maggie Gyllenhaal', 'Oakes Fegley', 'Oona Laurence', 'Kirsten Dunst', 'Thomas Haden Church', 'Matthew Macfadyen', 'Ray Stevenson', 'Charlie Cox', 'Claire Danes', 'Adam Brody', 'Johnny Simmons', 'Kathy Bates', 'Kurt Fuller', 'Florence Pugh', 'Christopher Fairbank', 'Cosmo Jarvis', 'Naomi Ackie', 'Judy Davis', 'Ben Barnes', 'Clémence Poésy', 'Antoine Bertrand', 'Ashley Walters', 'Tom Prior', 'Sophie Perry', 'Lydia Wilson', 'Will Ferrell', 'John C. Reilly', 'Mary Steenburgen', 'Richard Jenkins', 'Andy Powers', 'Laura Allen', 'Christian Distefano', 'Abigail Breslin', 'Alden Ehrenreich', 'Saurabh Shukla', 'Anil Kapoor', 'Taylor Lautner', 'Peter Facinelli', 'William Fichtner', 'Jon Voight', 'Lia Marie Johnson', 'Gabriel Basso', 'Rhys Ifans', 'Rodrigo Santoro', 'Nazanin Boniadi', 'Jacob Latimore', 'Seychelle Gabriel', 'Dulé Hill', 'Storm Reid', \"Dylan O'Brien\", 'Kaya Scodelario', 'Thomas Brodie-Sangster', 'Terence Stamp', 'Simon Helberg', 'Michael B. Jordan', 'Phylicia Rashad', 'Antonia Ribero', 'Jet Li', 'Antonio Banderas', 'Cori Gonzalez-Macuer', 'Jonny Brugh', 'Kate Siegel', 'Michael Trucco', 'Samantha Sloyan', 'Alan Alda', 'Ang Phula Sherpa', 'Thomas M. Wright', 'Martin Henderson', 'Kevin James', 'Peter Dinklage', 'Max von Sydow', 'Will Yun Lee', 'Tao Okamoto', 'Rila Fukushima', 'Lynn Collins', 'Samantha Morton', 'Keegan-Michael Key', 'Jordan Peele', 'Tiffany Haddish', 'Method Man', 'Jasmine Trinca', 'Tim Pigott-Smith', 'Naomi Battrick', 'Ellie Kendrick', 'James Cosmo', 'Chris Rock', 'David Spade', 'Michiel Huisman', 'Harrison Ford', 'Kathy Baker', 'Liv Tyler', 'William Hurt', 'Sanjeev Bhaskar', 'Rob Riggle', 'Alex Pettyfer', 'Natasha Henstridge', 'Lukas Hassel', 'Lin Shaye', 'Dominique Swain', 'Kelly Adams', 'Luing Andrews', 'Katy Barker', 'Jason Segel', 'Russell Brand', 'Julie Andrews', 'James Marsden', 'Liana Liberato', 'Emayatzy Corinealdi', 'Tammy Blanchard', 'Mandy Moore', 'Zachary Levi', 'Donna Murphy', 'Ron Perlman', 'Skyler Gisondo', 'Steele Stebbins', 'Famke Janssen', 'Leland Orser', 'Billy Crystal', 'Steve Buscemi', 'Isabelle Huppert', 'Laurent Lafitte', 'Anne Consigny', 'Charles Berling', 'Jessica Alba', 'Michelle Yeoh', 'Justin Long', 'Michael Parks', 'Haley Joel Osment', 'Genesis Rodriguez', 'Gretchen Mol', 'Brenda Blethyn', 'Lucy Walters', 'Eric Bana', 'Vicky Krieps', 'Lauren Birkell', 'Paul Borghese', 'Chira Cassel', 'Anthony Cirillo', 'Sam Riley', 'Bella Heathcote', 'Sullivan Stapleton', 'Hans Matheson', 'Angela Bassett', 'Julia Ormond', 'Mickey Rourke', 'Joan Allen', 'Julia Stiles', \"Srdjan 'Zika' Todorovic\", 'Sergej Trifunovic', 'Jelena Gavrilovic', 'Slobodan Bestic', 'Frank Grillo', 'Elizabeth Mitchell', 'Mykelti Williamson', 'Joseph Julian Soria', 'Madhavan', 'Mona Singh', 'Sharman Joshi', 'Mireille Enos', 'Daniella Kertesz', 'Marilyn Manson', 'Mark Boone Junior', 'Sam Quartin', 'Niko Nicotera', 'Eddie Marsan', 'Scott Eastwood', 'Oaklee Pendergast', 'Alex Karpovsky', 'Wyatt Russell', 'Meredith Hagner', 'Melanie Lynskey', 'Teri Hatcher', 'John Hodgman', 'Jennifer Saunders', 'John Doman', 'Faith Wladyka', 'Logan Paul', 'Peyton List', 'Calum Worthy', 'Radha Mitchell', 'Laurie Holden', 'Deborah Kara Unger', 'Olivia Thirlby', 'Rachel Wood', 'Sam Neill', 'Julian Dennison', 'Rima Te Wiata', 'Ryan Potter', 'Scott Adsit', 'Jamie Chung', 'Gabriella Wilde', 'Portia Doubleday', 'Chris Cooper', 'Judah Lewis', 'Dennis Quaid', 'Cam Gigandet', 'Antje Traue', 'Timothy Olyphant', 'Dianna Agron', 'Mads Mikkelsen', 'Thomas Bo Larsen', 'Annika Wedderkopp', 'Lasse Fogelstrøm', 'Craig T. Nelson', 'T.I.', 'Christopher Fitzgerald', 'Jonathan Roumie', 'Rebecca Hall', 'Lauren Cohan', 'Rupert Evans', 'James Russell', 'Jim Norton', 'Timothy Spall', 'Sarah Snook', 'Noah Taylor', 'Madeleine West', 'Odeya Rush', 'Ryan Lee', 'Daniel Olbrychski', 'Sarah Gadon', 'Isabella Rossellini', 'David James', 'Jason Cope', 'Nathalie Boltt', 'Derek Jeter', 'Jason Schwartzman', 'Rip Torn', 'John Cusack', 'Amanda Peet', 'Alan Arkin', 'Tom Costello', 'Jo Hartley', 'Ulrich Mühe', 'Martina Gedeck', 'Sebastian Koch', 'Ulrich Tukur', 'Dominic Monaghan', 'Ksenia Solo', 'Jennette McCurdy', \"Da'Vone McDonald\", 'Nancy Kwan', 'Annabelle Attanasio', 'Alfred Molina', 'Jack Madigan', 'Frank Madigan', 'Taylor Swift', 'Anthony Mackie', 'Aaron Paul', 'Giuseppe Battiston', 'Anna Foglietta', 'Marco Giallini', 'Edoardo Leo', 'Danny McBride', 'Jared Gilman', 'Kara Hayward', 'John Travolta', 'Queen Latifah', 'Nikki Blonsky', 'Michelle Pfeiffer', 'Julianne Hough', 'David Lyons', 'Brad Garrett', 'Lou Romano', 'Patton Oswalt', 'Ian Holm', 'Kelly McGillis', 'Gregory Jones', 'Jessica Lucas', 'Lizzy Caplan', 'Ray Winstone', 'Jeremy McWilliams', 'Lynsey Taylor Mackay', 'Dougie McConnell', 'Charlie Tahan', 'Salli Richardson-Whitfield', 'AJ Michalka', 'Joel Courtney', 'Leslie Bibb', 'Colm Meaney', 'Edward Asner', 'Jordan Nagai', 'John Ratzenberger', 'Giancarlo Esposito', 'Sarah Paulson', 'Toni Collette', 'Tracy Letts', 'Sam Trammell', 'Harvey Keitel', 'Jane Fonda', 'Sarah Polley', 'Linh Dan Pham', 'Billie Piper', 'James Floyd', 'Cush Jumbo', 'Geoffrey Arend', 'Stephen Merchant', 'Orto Ignatiussen', 'David Thewlis', 'Rupert Friend', \"Zac Mattoon O'Brien\", 'Rhona Mitra', 'Danny Glover', 'Ashlyn Sanchez', 'Matthew Fox', 'Joe Manganiello', 'Adam Rodriguez', 'Amanda Bynes', 'Penn Badgley', 'Dan Byrd', 'Ken Stott', 'Anika Noni Rose', 'Joseph Mawle', 'Brian Caspe', 'Karel Hermánek Jr.', 'Cameron Diaz', 'Anton Adasinsky', 'Aleksandr Armer', 'Vilen Babichev', 'Rostislav Bershauer', 'Tina Fey', 'Billy Magnussen', 'Terry Chen', 'Teresa Navarro', 'Vanessa Ross', 'Ariel Levy', 'Kirby Bliss Blanton', 'Scott Glenn', 'Albert Finney', 'Alycia Debnam-Carey', 'William Moseley', 'Brit Morgan', 'Jim Caviezel', 'Val Kilmer', 'Min-sik Choi', 'Amr Waked', 'Cynthia Nixon', 'Duncan Duff', 'Keith Carradine', 'Scott Mescudi', 'Kati Outinen', 'Jennifer Connelly', 'Peter Riegert', 'Olivia Williams', 'Anna Friel', 'Bruce Greenwood', 'Max Martini', 'Hilary Swank', 'Harry Connick Jr.', 'Lisa Kudrow', 'Richard Dreyfuss', 'Gillian Jacobs', 'Chris Gethard', 'Elisabeth Moss', 'Dave Johns', 'Hayley Squires', 'Sharon Percy', 'Briana Shann', 'Joey Lauren Adams', 'Ruth Negga', 'Will Dalton', 'Dean Mumford', 'Martin McCann', 'Andrew Simpson', 'Richenda Carey', 'Jennifer Lopez', 'Kristin Chenoweth', 'John Corbett', 'Allison Tolman', 'Luke Evans', 'Dax Shepard', 'Dolph Lundgren', 'Shiloh Fernandez', 'Lou Taylor Pucci', 'Juliet Rylance', 'James Ransone', 'Fred Dalton Thompson', 'Jack McBrayer', 'Jane Lynch', 'Sarah Silverman', 'Levi Miller', 'Rosie Huntington-Whiteley', 'Sarita Choudhury', 'Alexander Black', \"Jack O'Connell\", 'Kate Upton', 'Susan Sarandon', 'Patrick Dempsey', 'Anders Holm', 'Greg Kinnear', 'Katey Sagal', 'Jason Flemyng', 'Bruce Boxleitner', 'Philip Seymour Hoffman', 'Frank Langella', 'Lily Rabe', 'Dave Bautista', 'Alain Moussi', 'Gina Carano', 'Jean-Claude Van Damme', 'Noah Ringer', 'Jackson Rathbone', 'Rob Corddry', 'Ellie Kemper', 'Matthew Morrison', 'J. Todd Smith', 'Robin Wright', 'Sam Elliott', 'Matt Long', 'Miyavi', 'Stephen Dorff', 'Kelly Macdonald', 'Billy Connolly', 'Emma Thompson', 'Julie Walters', 'Ewa Fröling', 'Lena Endre', 'Xavier Samuel', 'James Frecheville', 'James Gandolfini', 'Matthias Schoenaerts', 'Laura Ramsey', 'Vinnie Jones', 'Cara Buono', 'Sean Faris', 'Djimon Hounsou', 'Sacha Baron Cohen', 'Freddie Crowder', 'Sam Rockwell', 'Kevin Spacey', 'Dominique McElligott', 'Rosie Shaw', 'Giovanni Ribisi', 'Erin Moriarty', 'Morgan Lily', 'Trenton Rogers', 'Dustin Hoffman', 'Matt Vael', 'Simon Cotton', 'Kevin Leslie', 'Olivia Moyles', \"Fionn O'Shea\", 'Nicholas Galitzine', 'Moe Dunford', 'John Hawkes', 'Garret Dillahunt', 'Isaiah Stone', 'Steve Wiebe', 'Anne Dorval', 'Antoine-Olivier Pilon', 'Suzanne Clément', 'Patrick Huard', 'Selma Blair', 'Doug Jones', 'John Alexander', 'Alice Englert', 'Sandra Hüller', 'Peter Simonischek', 'Michael Wittenborn', 'Thomas Loibl', 'Sam Shepard', 'Mary-Louise Parker', 'Tony Danza', 'Kelly Reilly', 'Paul Sidhu', 'Branden Coles', 'Arielle Holmes', 'Kelcey Watson', 'Jon Daly', 'Shameik Moore', 'Kiersey Clemons', 'Kimberly Elise', 'Michael Ealy', 'India Eisley', 'Stephen Rea', 'Storm Acheche Sahlstrøm', 'Jared Padalecki', 'Amanda Righetti', 'Derek Mears', 'Danielle Panabaker', 'Bokeem Woodbine', 'Lyndsy Fonseca', 'Michael Doneger', 'Tommy Dewey', 'Bruce Campbell', 'Robin Williams', 'Dick Van Dyke', 'Oliver Platt', 'Randall Park', 'Kang-ho Song', 'Hee-Bong Byun', 'Hae-il Park', 'Doona Bae', 'Amber Perkins', 'Rachel Quinn', 'Dean Waite', 'Jael Elizabeth Steinmeyer', 'Ben Burtt', 'Elissa Knight', 'Jeff Garlin', 'Fred Willard', 'Katherine Heigl', 'Heather Sossaman', 'Matthew Bohrer', 'Courtney Halverson', 'Shelley Hennig', 'Jason Biggs', 'Alyson Hannigan', 'Seann William Scott', 'Chris Klein', 'Jaden Smith', 'Brian Howe', 'Darío Grandinetti', 'María Marull', 'Mónica Villa', 'Rita Cortese', 'Jorge Garcia', 'Pierre Niney', 'Paula Beer', 'Ernst Stötzner', 'Marie Gruber', \"Sofia Black-D'Elia\", 'Analeigh Tipton', 'Travis Tope', 'Michael Kelly', 'Bee Vang', 'Christopher Carley', 'Ahney Her', 'Riccardo Scamarcio', 'Dan Crisafulli', 'Kay Whitney', 'Richard Garcia', 'Pat Cashman', 'Rachael Blake', 'Ewen Leslie', 'Bridgette Barrett', 'Lucy Fry', 'Gabriel Byrne', 'Alan Rickman', 'Jeffrey Dean Morgan', 'Jorma Taccone', 'David Troughton', 'Jack Holden', 'Joe Blakemore', 'Christian Stolte', 'Ellar Coltrane', 'Patricia Arquette', 'Elijah Smith', 'Noel Fisher', 'Armin Mueller-Stahl', 'Josef Altin', 'Nicholas Hope', 'Gary Cole', 'Victoria Justice', 'Michael McDonald', 'André Marcon', 'Roman Kolinka', 'Edith Scob', 'Dale Dickey', 'Jessica Barth', 'Tony Shalhoub', 'Kagiso Kuypers', 'Alessandro Nivola', 'James Hamrick', 'Joel Kinnaman', 'Brian Geraghty', 'Andre Braugher', '50 Cent', 'Lily Collins', 'Christian Cooke', 'Jaime Winstone', 'Mae Whitman', 'Bella Thorne', 'Robbie Amell', 'Allison Janney', 'Byung-hun Lee', 'Ji-min Han', 'Jasper Newell', 'Chloë Sevigny', 'Emma Greenwell', 'Jamie Campbell Bower', 'Robert Sheehan', 'Jemima West', 'Derek Jacobi', 'Stuart Graham', 'Laine Megaw', 'Brian Milligan', 'Liam McMahon', 'Hayden Christensen', 'Rachel Bilson', 'Tim Allen', 'Joan Cusack', 'Ned Beatty', 'Sienna Guillory', 'Aryana Engineer', 'Alia Bhatt', 'Shah Rukh Khan', 'Kunal Kapoor', 'Priyanka Moodley', 'Adewale Akinnuoye-Agbaje', 'Suraj Sharma', 'Adil Hussain', 'Tabu', 'Cary-Hiroyuki Tagawa', 'Sarah Roemer', 'Michael Pitt', 'Steven Yeun', 'Astrid Bergès-Frisbey', 'Brit Marling', 'Maggie Q', 'Wesley Elder', 'Christina Grimmie', 'Osric Chau', 'Olan Rogers', 'Brady Corbet', 'Joel McHale', 'Shea Adams', 'Eddie Baroo', 'Billy Bob Thornton', 'Mauricio Lopez', 'Josh Stewart', 'Bill Engvall', 'Alex Essoe', 'Ronnie Gene Blevins', 'Lisa Thoreson', 'Florence Kastriner', 'Robert Duvall', 'Emmanuel Garijo', 'Tom Hudson', 'Baptiste Goy', 'Axel Devillers', 'Lubna Azabal', 'Mélissa Désormeaux-Poulin', 'Maxim Gaudette', 'Mustafa Kamel', 'Jerry Stiller', 'Brittany Murphy', 'Kevin Connolly', 'Jerry Ferrara', 'Kevin Dillon', 'Scott Speedman', 'Gemma Ward', 'Alex Fisher', 'Gaby Hoffmann', 'Salma Hayek', 'James Allen McCune', 'Callie Hernandez', 'Corbin Reid', 'Brandon Scott', 'Jackie Chan', 'Wenwen Han', 'Patricia Clarkson', 'Jenna Elfman', 'Rufus Sewell', 'Dan Stevens', 'Sheila Kelley', 'Joel David Moore', 'Aasif Mandvi', 'Mia Stallard', 'Audrey Tautou', 'Jean Reno', 'Eddie Murphy', 'Natascha McElhone', 'Christopher Lee', 'Kiernan Shipka', 'Lauren Holly', 'Lucy Boynton', 'Brian Dennehy', 'Brendan Fraser', 'Ella Anderson', 'Usher Raymond', 'Rubén Blades', 'Ricardo Darín', 'Soledad Villamil', 'Pablo Rago', 'Carla Quevedo', 'Wes Bentley', 'Emily Ratajkowski', 'Jonny Weston', 'Brian White', 'Karrueche Tran', 'Angelique Pereira', 'Jessica Vanessa DeLeon', 'Taissa Farmiga', 'Steve Tom', 'Elizabeth Reaser', 'Lulu Wilson', 'Henry Thomas', 'Nathan Fillion', 'Karen Gillan', 'Katee Sackhoff', 'Rory Cochrane', 'Elizabeth Berrington', 'Til Schweiger', 'Tatiana Pauhofová', 'Karl Markovics', 'Gedeon Burkhard', 'Simona Stasová', 'Dermot Mulroney', 'Diego Klattenhoff', 'Larenz Tate', 'Meagan Good', 'Rotimi', 'Rick Gonzalez', 'Rose McGowan', 'Freddie Highmore', 'Jonathan Rhys Meyers', 'Barkhad Abdi', 'Max Burkholder', 'Adelaide Kane', 'Anushka Sharma', 'Sanjay Dutt', 'Boman Irani', 'Karen Allen', 'Cara Delevingne', 'Austin Abrams', 'Justice Smith', 'Anthony LaPaglia', 'Craig Ferguson', 'Bob Balaban', 'Sean Patrick Thomas', 'Ellen Burstyn', 'Malcolm McDowell', 'Richard Brake', 'Jeff Daniel Phillips', 'Sheri Moon Zombie', 'Logan Huffman', 'Alexander Ludwig', 'Maddy Curley', 'John DeLuca', 'Nikki SooHoo', 'Drew Seeley', 'Malcolm Sinclair', 'Raghuvir Joshi', 'January Jones', 'Aidan Quinn', 'Natalie Martinez', 'Demi Moore', 'Dane Cook', 'Callum Turner', 'Grace Van Patten', 'Michal Vondel', 'Emma Fitzpatrick', 'John Cullum', 'Barkhad Abdirahman', 'Aidan Turner', 'Ben Winchell', 'Josh Brener', 'Andy Garcia', 'Ike Barinholtz', \"John D'Leo\", 'Craig Robinson', 'Gerry Bednob', 'Gaspard Schlatter', 'Sixtine Murat', 'Paulin Jaccoud', 'Michel Vuillermoz', 'Mandy Gonzalez', 'Ashton Kutcher', 'Kevin Kline', 'Cary Elwes', 'Jeremy Davies', 'Zach Grenier', 'Benjamin Bratt', 'Miranda Cosgrove', 'Boyd Holbrook', 'Lily-Rose Depp', 'Harley Quinn Smith', 'Christopher Walken', 'Crispin Glover', 'Mary McCormack', 'Paul Birchard', 'Jessica Lange', 'David Oyelowo', 'Tom Felton', 'Tom Sizemore', 'Matt Lanter', 'Munro Chambers', 'Laurence Leboeuf', 'Michael Ironside', 'Edwin Wright', 'Megan Charpentier', 'Isabelle Nélisse', 'Isabelle Fuhrman', 'CCH Pounder', 'Jason Barry', 'Karen Moskow', 'Kai Ryssdal', 'Sean Bott', 'Ward Horton', 'Alfre Woodard', 'Tony Amendola', 'Katie Cassidy', 'Elizabeth Henstridge', 'Adam Campbell', 'Miles Fisher', 'Kristin Scott Thomas', 'Eric Godon', 'Lily Cole', 'Marlon Wayans', 'Michael C. Hall', 'Maria Dizzia', 'Michael Vartan', 'Nadine Velazquez', 'Charlie Heaton', 'Mark Chao', 'Ni Ni', 'Danny Trejo', 'Carmen Electra', 'Vanessa Lachey', 'Nicole Parker', 'Antonio Tarver', 'Milo Ventimiglia', 'Burt Young', 'Devon Bostick', 'Su Elliot', 'Donald Sutherland', 'Alexis Dziena', 'Wentworth Miller', 'Adrian Titieni', 'Maria-Victoria Dragus', 'Lia Bugnar', 'Malina Manovici', 'John Turturro', 'Emmanuelle Chriqui', 'Nick Swardson', 'Christopher McDonald', 'Mira Sorvino', 'Sally Hawkins', 'Kari Matchett', 'Zachary Bennett', 'Keith David', 'Oprah Winfrey', 'Bruno Campos', 'Ethan Suplee', 'Jim Parsons', 'Steve Martin', 'Jim Sturgess', 'Sylvia Hoeks', 'Sophie Nélisse', 'Josh Wiggins', 'Joe Cobden', 'T.R. Knight', 'Nicole Beharie', 'Aaron Yoo', 'Adam Levine', 'Christopher Evan Welch', 'Regina Hall', 'Anthony Anderson', 'Eve', 'Moon Bloodgood', 'Imelda Staunton', 'Ted Levine', 'Kathleen Quinlan', 'Emilie de Ravin', 'Colm Feore', 'Gattlin Griffith', 'Caitlyn Rund', 'Moisés Acevedo', 'Miyu Irino', 'Saori Hayami', 'Kenshô Ono', 'Ruth Wilson', 'Aiden Longworth', 'Juno Temple', 'Max Minghella', 'Joe Anderson', 'Tijuana Ricks', 'Sue Dahlman', 'Tye Sheridan', 'Ving Rhames', 'Rolf Lassgård', 'Bahar Pars', 'Filip Berg', 'Ida Engvoll', 'Justin Chatwin', 'James Marsters', 'Yun-Fat Chow', 'Emmy Rossum', 'Isabel Lucas', 'Josh Peck', 'Tom Mison', 'Josh Lucas', 'Alexis Clagett', 'Robert Carlyle', 'Harold Perrineau', 'John Malkovich', 'Adrianne Palicki', 'Hiroki Hasegawa', 'Yutaka Takenouchi', 'Satomi Ishihara', 'Ren Ôsugi', 'Annie Rose Buckley', 'George Lopez', 'Karen Disher', 'Vernetta Lopez', 'Scott Lawrence', 'Gael García Bernal', 'Mohamed Akhzam', 'Hunter McCracken', 'Taylor Schilling', 'Blythe Danner', 'Riley Thomas Stewart', 'Elisabeth Shue', \"Jerry O'Connell\", 'Dylan Duffus', 'Scorcher', 'Shone Romulus', 'Jade Asha', 'Maude Apatow', 'Iris Apatow', 'Dakota Goyo', 'Sarah Jessica Parker', 'Kim Cattrall', 'Kristin Davis', 'Julie Benz', 'Matthew Marsden', 'Graham McTavish', 'Freddy Rodríguez', 'Marley Shelton', 'David Morse', 'Lee Pace', 'Catinca Untaru', 'Justine Waddell', 'Kim Uylenbroek', 'Bree Turner', 'Eric Winter', 'Candice Bergen', 'Bryan Greenberg', 'Jordan Carlos', 'Margarita Levieva', 'Julianna Margulies', 'Nathan Phillips', 'Rachel Blanchard', 'Zoe Kazan', 'Megan Park', 'Max Greenfield', 'Tyne Daly', 'Michael Mantell', 'Michael Rooker', 'Don Thompson', 'Toby Jones', 'Paula Prentiss', 'AnnaSophia Robb', 'Robert Patrick', 'Emily Baldoni', 'Maury Sterling', 'Nicholas Brendon', 'Elizabeth Gracen', 'Jamal Woolard', 'Derek Luke', 'Momo Dione', 'Jun Kunimura', 'Jung-min Hwang', 'Do-won Kwak', 'Woo-hee Chun', 'Randy Couture', 'William Atherton', 'Blythe Auffarth', 'Blanche Baker', 'Kevin Chamberlin', 'Francesc Albiol', 'Dakota Blue Richards', 'Ben Walker', 'Andreas Wisniewski', 'Logan Miller', 'Joey Morgan', 'Sarah Dumont', 'Matthew Perry', 'Chatchawai Kamonsakpitak', 'Brandon Routh', 'Gabourey Sidibe', \"Mo'Nique\", 'Mariah Carey', 'Ryoko Seta', 'Nicholas Braun', 'Mateo Arias', 'Israel Broussard', 'Jesse Plemons', 'Kenny Wormald', 'Andie MacDowell', 'Jamie Blackley', 'Joshua Leonard', 'Bel Powley', 'Stephen Moyer', 'Samantha Robinson', 'Jeffrey Vincent Parise', 'Laura Waddell', 'Gian Keys', 'Dieter Laser', 'Ashley C. Williams', 'Ashlynn Yennie', 'Akihiro Kitamura', 'Rainn Wilson', 'Brooke Shields', 'Gabriel Luna', 'David Acord', 'Ari Graynor', 'Jordi Mollà', 'Melissa George', 'Joshua McIvor', 'Jack Taylor', 'Michael Dorman', 'Garrett Clayton', 'Christian Slater', 'Molly Ringwald', 'James Kelley', 'Sophie Okonedo', 'Jahking Guillory', 'Christopher Jordan Wallace', 'Christopher Meyer', 'Kofi Siriboe', 'Thomas Mann', 'RJ Cyler', 'Olivia Cooke', 'Amara Miller', 'Nick Krause', 'Nick Robinson', 'Moises Arias', 'Paul Bettany', 'Charles S. Dutton', 'America Ferrera', 'Connie Nielsen', 'Josh Hartnett', 'Lucy Liu', 'Danny Sapani', 'Evan Rachel Wood', 'Callum Keith Rennie', 'Sarah Butler', 'Jeff Branson', 'Andrew Howard', 'Daniel Franzese', 'Hayden Panettiere', 'Catalina Sandino Moreno', 'Karolina Gruszka', 'Lambert Wilson', 'Guillaume Baillargeon', 'Émilie Leclerc', 'Andrea Whitburn', 'Jennifer Koenig', 'Michael Dickson', 'Tania Raymonde', 'Trey Songz', 'Carrie-Anne Moss', 'Diego Boneta', 'Neve Campbell', 'Courteney Cox', 'David Arquette', 'Lucy Hale', 'Madina Nalwanga', \"Lupita Nyong'o\", 'Martin Kabanza', 'Nia Vardalos', 'Michael Constantine', 'Lainie Kazan', 'Janet Montgomery', 'Ashley Tisdale', 'Bria L. Murphy', 'Nathalie Baye', 'Elena Anaya', 'Jan Cornet', 'Marisa Paredes', 'Kylie Rogers', 'Brighton Sharbino', 'Quvenzhané Wallis', 'Dana Fuchs', 'Jake Johnson', 'Damon Wayans Jr.', 'Nina Dobrev', 'Luke Kleintank', 'Lauren Graham', 'Rasmus Hardiker', \"Nicholas D'Agosto\", 'Emma Bell', 'Arlen Escarpeta', 'Morjana Alaoui', 'Mylène Jampanoï', 'Catherine Bégin', 'Robert Toupin', 'Carmen Ejogo', 'Lorraine Toussaint', 'Steven Mackintosh', 'Darsheel Safary', 'Tanay Chheda', 'Sachet Engineer', 'Kim Coates', 'Oliver Cooper', 'Jonathan Daniel Brown', 'Dax Flame', 'Dean Norris', 'Lauren German', 'Heather Matarazzo', 'Bijou Phillips', 'Roger Bart', 'Robert Hoffman', 'Briana Evigan', 'Cassie Ventura', 'Adam G. Sevani', 'Adam Pally', 'Thomas Middleditch', 'Shannon Woodward', 'Cheryl Hines', 'Action', 'Adventure', 'Sci-Fi', 'Mystery', 'Horror', 'Thriller', 'Animation', 'Comedy', 'Family', 'Fantasy', 'Drama', 'Music', 'Biography', 'Romance', 'History', 'Crime', 'Western', 'War', 'Musical', 'Sport', 2014, 2012, 2016, 2015, 2007, 2011, 2008, 2006, 2009, 2010, 2013])"
      ]
     },
     "execution_count": 44,
     "metadata": {},
     "output_type": "execute_result"
    }
   ],
   "source": [
    "emb.keys()"
   ]
  },
  {
   "cell_type": "code",
   "execution_count": 45,
   "metadata": {},
   "outputs": [
    {
     "data": {
      "text/plain": [
       "3623"
      ]
     },
     "execution_count": 45,
     "metadata": {},
     "output_type": "execute_result"
    },
    {
     "name": "stderr",
     "output_type": "stream",
     "text": [
      "\n",
      "\n",
      "\n",
      "\n"
     ]
    }
   ],
   "source": [
    "len(graph.nodes())"
   ]
  },
  {
   "cell_type": "code",
   "execution_count": 31,
   "metadata": {},
   "outputs": [
    {
     "name": "stdout",
     "output_type": "stream",
     "text": [
      "[]\n"
     ]
    }
   ],
   "source": [
    "edges_for_node = graph.edges('Anushka Shetty', data=True)\n",
    "print(edges_for_node)\n",
    "for edge in edges_for_node:\n",
    "    print(edge)"
   ]
  },
  {
   "cell_type": "code",
   "execution_count": null,
   "metadata": {},
   "outputs": [],
   "source": []
  }
 ],
 "metadata": {
  "accelerator": "GPU",
  "colab": {
   "gpuType": "T4",
   "provenance": []
  },
  "kernelspec": {
   "display_name": "Python 3 (ipykernel)",
   "language": "python",
   "name": "python3"
  },
  "language_info": {
   "codemirror_mode": {
    "name": "ipython",
    "version": 3
   },
   "file_extension": ".py",
   "mimetype": "text/x-python",
   "name": "python",
   "nbconvert_exporter": "python",
   "pygments_lexer": "ipython3",
   "version": "3.8.10"
  },
  "widgets": {
   "application/vnd.jupyter.widget-state+json": {
    "0f65f8f823424565a7c505fe2d3ee3df": {
     "model_module": "@jupyter-widgets/controls",
     "model_module_version": "1.5.0",
     "model_name": "ProgressStyleModel",
     "state": {
      "_model_module": "@jupyter-widgets/controls",
      "_model_module_version": "1.5.0",
      "_model_name": "ProgressStyleModel",
      "_view_count": null,
      "_view_module": "@jupyter-widgets/base",
      "_view_module_version": "1.2.0",
      "_view_name": "StyleView",
      "bar_color": null,
      "description_width": ""
     }
    },
    "2dc8b588803b423f98d8080c28aa8ef5": {
     "model_module": "@jupyter-widgets/base",
     "model_module_version": "1.2.0",
     "model_name": "LayoutModel",
     "state": {
      "_model_module": "@jupyter-widgets/base",
      "_model_module_version": "1.2.0",
      "_model_name": "LayoutModel",
      "_view_count": null,
      "_view_module": "@jupyter-widgets/base",
      "_view_module_version": "1.2.0",
      "_view_name": "LayoutView",
      "align_content": null,
      "align_items": null,
      "align_self": null,
      "border": null,
      "bottom": null,
      "display": null,
      "flex": null,
      "flex_flow": null,
      "grid_area": null,
      "grid_auto_columns": null,
      "grid_auto_flow": null,
      "grid_auto_rows": null,
      "grid_column": null,
      "grid_gap": null,
      "grid_row": null,
      "grid_template_areas": null,
      "grid_template_columns": null,
      "grid_template_rows": null,
      "height": null,
      "justify_content": null,
      "justify_items": null,
      "left": null,
      "margin": null,
      "max_height": null,
      "max_width": null,
      "min_height": null,
      "min_width": null,
      "object_fit": null,
      "object_position": null,
      "order": null,
      "overflow": null,
      "overflow_x": null,
      "overflow_y": null,
      "padding": null,
      "right": null,
      "top": null,
      "visibility": null,
      "width": null
     }
    },
    "384ea9efd3cd4bcfa59df1675c37726b": {
     "model_module": "@jupyter-widgets/base",
     "model_module_version": "1.2.0",
     "model_name": "LayoutModel",
     "state": {
      "_model_module": "@jupyter-widgets/base",
      "_model_module_version": "1.2.0",
      "_model_name": "LayoutModel",
      "_view_count": null,
      "_view_module": "@jupyter-widgets/base",
      "_view_module_version": "1.2.0",
      "_view_name": "LayoutView",
      "align_content": null,
      "align_items": null,
      "align_self": null,
      "border": null,
      "bottom": null,
      "display": null,
      "flex": null,
      "flex_flow": null,
      "grid_area": null,
      "grid_auto_columns": null,
      "grid_auto_flow": null,
      "grid_auto_rows": null,
      "grid_column": null,
      "grid_gap": null,
      "grid_row": null,
      "grid_template_areas": null,
      "grid_template_columns": null,
      "grid_template_rows": null,
      "height": null,
      "justify_content": null,
      "justify_items": null,
      "left": null,
      "margin": null,
      "max_height": null,
      "max_width": null,
      "min_height": null,
      "min_width": null,
      "object_fit": null,
      "object_position": null,
      "order": null,
      "overflow": null,
      "overflow_x": null,
      "overflow_y": null,
      "padding": null,
      "right": null,
      "top": null,
      "visibility": null,
      "width": null
     }
    },
    "40c014242999402a924779e51291df2a": {
     "model_module": "@jupyter-widgets/controls",
     "model_module_version": "1.5.0",
     "model_name": "HBoxModel",
     "state": {
      "_dom_classes": [],
      "_model_module": "@jupyter-widgets/controls",
      "_model_module_version": "1.5.0",
      "_model_name": "HBoxModel",
      "_view_count": null,
      "_view_module": "@jupyter-widgets/controls",
      "_view_module_version": "1.5.0",
      "_view_name": "HBoxView",
      "box_style": "",
      "children": [
       "IPY_MODEL_9e159b87be624421a92cc2792256711f",
       "IPY_MODEL_f47980cab81a420facf6ffd836f49e2a",
       "IPY_MODEL_580d081d644e4aa881e3e52ba3d59e6e"
      ],
      "layout": "IPY_MODEL_384ea9efd3cd4bcfa59df1675c37726b"
     }
    },
    "580d081d644e4aa881e3e52ba3d59e6e": {
     "model_module": "@jupyter-widgets/controls",
     "model_module_version": "1.5.0",
     "model_name": "HTMLModel",
     "state": {
      "_dom_classes": [],
      "_model_module": "@jupyter-widgets/controls",
      "_model_module_version": "1.5.0",
      "_model_name": "HTMLModel",
      "_view_count": null,
      "_view_module": "@jupyter-widgets/controls",
      "_view_module_version": "1.5.0",
      "_view_name": "HTMLView",
      "description": "",
      "description_tooltip": null,
      "layout": "IPY_MODEL_d6ada842d1ec4493882f6a305c83de10",
      "placeholder": "​",
      "style": "IPY_MODEL_9a973fd5411846a7b43848effa14adc0",
      "value": " 4046/4046 [00:00&lt;00:00, 8717.97it/s]"
     }
    },
    "7f1ea4b040fa403baa6a618ba9c1fa13": {
     "model_module": "@jupyter-widgets/controls",
     "model_module_version": "1.5.0",
     "model_name": "DescriptionStyleModel",
     "state": {
      "_model_module": "@jupyter-widgets/controls",
      "_model_module_version": "1.5.0",
      "_model_name": "DescriptionStyleModel",
      "_view_count": null,
      "_view_module": "@jupyter-widgets/base",
      "_view_module_version": "1.2.0",
      "_view_name": "StyleView",
      "description_width": ""
     }
    },
    "9a973fd5411846a7b43848effa14adc0": {
     "model_module": "@jupyter-widgets/controls",
     "model_module_version": "1.5.0",
     "model_name": "DescriptionStyleModel",
     "state": {
      "_model_module": "@jupyter-widgets/controls",
      "_model_module_version": "1.5.0",
      "_model_name": "DescriptionStyleModel",
      "_view_count": null,
      "_view_module": "@jupyter-widgets/base",
      "_view_module_version": "1.2.0",
      "_view_name": "StyleView",
      "description_width": ""
     }
    },
    "9e159b87be624421a92cc2792256711f": {
     "model_module": "@jupyter-widgets/controls",
     "model_module_version": "1.5.0",
     "model_name": "HTMLModel",
     "state": {
      "_dom_classes": [],
      "_model_module": "@jupyter-widgets/controls",
      "_model_module_version": "1.5.0",
      "_model_name": "HTMLModel",
      "_view_count": null,
      "_view_module": "@jupyter-widgets/controls",
      "_view_module_version": "1.5.0",
      "_view_name": "HTMLView",
      "description": "",
      "description_tooltip": null,
      "layout": "IPY_MODEL_a6f4e2bb72b84e1fb139497d9b1a0575",
      "placeholder": "​",
      "style": "IPY_MODEL_7f1ea4b040fa403baa6a618ba9c1fa13",
      "value": "Computing transition probabilities: 100%"
     }
    },
    "a6f4e2bb72b84e1fb139497d9b1a0575": {
     "model_module": "@jupyter-widgets/base",
     "model_module_version": "1.2.0",
     "model_name": "LayoutModel",
     "state": {
      "_model_module": "@jupyter-widgets/base",
      "_model_module_version": "1.2.0",
      "_model_name": "LayoutModel",
      "_view_count": null,
      "_view_module": "@jupyter-widgets/base",
      "_view_module_version": "1.2.0",
      "_view_name": "LayoutView",
      "align_content": null,
      "align_items": null,
      "align_self": null,
      "border": null,
      "bottom": null,
      "display": null,
      "flex": null,
      "flex_flow": null,
      "grid_area": null,
      "grid_auto_columns": null,
      "grid_auto_flow": null,
      "grid_auto_rows": null,
      "grid_column": null,
      "grid_gap": null,
      "grid_row": null,
      "grid_template_areas": null,
      "grid_template_columns": null,
      "grid_template_rows": null,
      "height": null,
      "justify_content": null,
      "justify_items": null,
      "left": null,
      "margin": null,
      "max_height": null,
      "max_width": null,
      "min_height": null,
      "min_width": null,
      "object_fit": null,
      "object_position": null,
      "order": null,
      "overflow": null,
      "overflow_x": null,
      "overflow_y": null,
      "padding": null,
      "right": null,
      "top": null,
      "visibility": null,
      "width": null
     }
    },
    "d6ada842d1ec4493882f6a305c83de10": {
     "model_module": "@jupyter-widgets/base",
     "model_module_version": "1.2.0",
     "model_name": "LayoutModel",
     "state": {
      "_model_module": "@jupyter-widgets/base",
      "_model_module_version": "1.2.0",
      "_model_name": "LayoutModel",
      "_view_count": null,
      "_view_module": "@jupyter-widgets/base",
      "_view_module_version": "1.2.0",
      "_view_name": "LayoutView",
      "align_content": null,
      "align_items": null,
      "align_self": null,
      "border": null,
      "bottom": null,
      "display": null,
      "flex": null,
      "flex_flow": null,
      "grid_area": null,
      "grid_auto_columns": null,
      "grid_auto_flow": null,
      "grid_auto_rows": null,
      "grid_column": null,
      "grid_gap": null,
      "grid_row": null,
      "grid_template_areas": null,
      "grid_template_columns": null,
      "grid_template_rows": null,
      "height": null,
      "justify_content": null,
      "justify_items": null,
      "left": null,
      "margin": null,
      "max_height": null,
      "max_width": null,
      "min_height": null,
      "min_width": null,
      "object_fit": null,
      "object_position": null,
      "order": null,
      "overflow": null,
      "overflow_x": null,
      "overflow_y": null,
      "padding": null,
      "right": null,
      "top": null,
      "visibility": null,
      "width": null
     }
    },
    "f47980cab81a420facf6ffd836f49e2a": {
     "model_module": "@jupyter-widgets/controls",
     "model_module_version": "1.5.0",
     "model_name": "FloatProgressModel",
     "state": {
      "_dom_classes": [],
      "_model_module": "@jupyter-widgets/controls",
      "_model_module_version": "1.5.0",
      "_model_name": "FloatProgressModel",
      "_view_count": null,
      "_view_module": "@jupyter-widgets/controls",
      "_view_module_version": "1.5.0",
      "_view_name": "ProgressView",
      "bar_style": "success",
      "description": "",
      "description_tooltip": null,
      "layout": "IPY_MODEL_2dc8b588803b423f98d8080c28aa8ef5",
      "max": 4046,
      "min": 0,
      "orientation": "horizontal",
      "style": "IPY_MODEL_0f65f8f823424565a7c505fe2d3ee3df",
      "value": 4046
     }
    }
   }
  }
 },
 "nbformat": 4,
 "nbformat_minor": 1
}
